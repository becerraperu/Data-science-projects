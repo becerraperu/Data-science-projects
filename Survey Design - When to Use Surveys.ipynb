{
 "cells": [
  {
   "cell_type": "markdown",
   "metadata": {},
   "source": [
    "Survey Design - When to Use Surveys\n",
    "\n",
    "Will Becerra"
   ]
  },
  {
   "cell_type": "markdown",
   "metadata": {},
   "source": [
    "State whether a survey would be the best option for answering each of the following questions.\n",
    "\n",
    "* Note: whenever possible you should strive to get behavioral data, and that if behavioral and self-report data disagree, the behavioral data should receive greater weight.\n",
    "\n",
    "Popularity of various Uber drivers. \n",
    "- Yes, this is a qualitative measure.\n",
    "\n",
    "A grocery store wants to know how much people like strawberry, chocolate, and vanilla ice cream.  \n",
    "- No, this can be measured directly from sales if there is equal amount of each flavor available for purchase.  Alternatively, a survey could be applied if the grocery store does not currently sell these flavors.\n",
    "\n",
    "Trojan wants to know whether their condoms are more popular among straight people or gay people. \n",
    "- Yes, private information.\n",
    "\n",
    "Recently, rental rates for HappyCars have increased by 30%, which is quite unusual. You want to find out why this is happening and how to keep the increase going.\n",
    "- Yes, if there are no promitions occuring, a survey would serve to uncover what is driving increase in rental rates.\n",
    "\n",
    "Assessing the success rate of a new advertising campaign. \n",
    "- No, this could be measured by revenue lift.\n",
    "\n",
    "Measuring the effect of nurse/patient ratio on patient recovery rates in hospital wards.  \n",
    "- No, this could be measured directly.\n"
   ]
  },
  {
   "cell_type": "code",
   "execution_count": null,
   "metadata": {},
   "outputs": [],
   "source": []
  }
 ],
 "metadata": {
  "kernelspec": {
   "display_name": "Python 3",
   "language": "python",
   "name": "python3"
  },
  "language_info": {
   "codemirror_mode": {
    "name": "ipython",
    "version": 3
   },
   "file_extension": ".py",
   "mimetype": "text/x-python",
   "name": "python",
   "nbconvert_exporter": "python",
   "pygments_lexer": "ipython3",
   "version": "3.6.2"
  }
 },
 "nbformat": 4,
 "nbformat_minor": 2
}
