{
 "cells": [
  {
   "cell_type": "markdown",
   "metadata": {},
   "source": [
    "Validating Linear Regression Model - NYC Crimes"
   ]
  },
  {
   "cell_type": "code",
   "execution_count": 1,
   "metadata": {},
   "outputs": [],
   "source": [
    "import numpy as np\n",
    "import pandas as pd\n",
    "from pandas import DataFrame, read_csv\n",
    "import scipy\n",
    "import sklearn\n",
    "import matplotlib.pyplot as plt\n",
    "import seaborn as sns\n",
    "import math\n",
    "import statistics\n",
    "import warnings\n",
    "\n",
    "from IPython.display import display\n",
    "from matplotlib import pyplot as plt\n",
    "from sklearn import linear_model\n",
    "from sklearn.model_selection import train_test_split\n",
    "from sklearn import preprocessing\n",
    "from sklearn.preprocessing import MinMaxScaler\n",
    "import statsmodels.api as smf\n",
    "\n",
    "from statsmodels.sandbox.regression.predstd import wls_prediction_std\n",
    "\n",
    "from matplotlib.mlab import PCA as mlabPCA\n",
    "from sklearn.preprocessing import StandardScaler\n",
    "from sklearn.decomposition import PCA \n",
    "\n",
    "# Display preferences.\n",
    "%matplotlib inline\n",
    "pd.options.display.float_format = '{:.3f}'.format\n",
    "\n",
    "# Suppress annoying harmless error.\n",
    "warnings.filterwarnings(\n",
    "    action=\"ignore\",\n",
    "    module=\"scipy\",\n",
    "    message=\"^internal gelsd\"\n",
    ")"
   ]
  },
  {
   "cell_type": "code",
   "execution_count": 2,
   "metadata": {},
   "outputs": [],
   "source": [
    "df = pd.read_excel('Offenses_NYC_2014.xls',skiprows=4)"
   ]
  },
  {
   "cell_type": "code",
   "execution_count": 3,
   "metadata": {},
   "outputs": [
    {
     "name": "stdout",
     "output_type": "stream",
     "text": [
      "<class 'pandas.core.frame.DataFrame'>\n",
      "RangeIndex: 376 entries, 0 to 375\n",
      "Data columns (total 13 columns):\n",
      "City                                    375 non-null object\n",
      "Population                              369 non-null float64\n",
      "Violent\n",
      "crime                           369 non-null float64\n",
      "Murder and\n",
      "nonnegligent\n",
      "manslaughter    369 non-null float64\n",
      "Rape\n",
      "(revised\n",
      "definition)1              227 non-null float64\n",
      "Rape\n",
      "(legacy\n",
      "definition)2               142 non-null float64\n",
      "Robbery                                 369 non-null float64\n",
      "Aggravated\n",
      "assault                      369 non-null float64\n",
      "Property\n",
      "crime                          368 non-null float64\n",
      "Burglary                                369 non-null float64\n",
      "Larceny-\n",
      "theft                          368 non-null float64\n",
      "Motor\n",
      "vehicle\n",
      "theft                     369 non-null float64\n",
      "Arson3                                  365 non-null float64\n",
      "dtypes: float64(12), object(1)\n",
      "memory usage: 36.8+ KB\n"
     ]
    }
   ],
   "source": [
    "df.info()"
   ]
  },
  {
   "cell_type": "code",
   "execution_count": 4,
   "metadata": {
    "scrolled": true
   },
   "outputs": [
    {
     "data": {
      "text/html": [
       "<div>\n",
       "<style scoped>\n",
       "    .dataframe tbody tr th:only-of-type {\n",
       "        vertical-align: middle;\n",
       "    }\n",
       "\n",
       "    .dataframe tbody tr th {\n",
       "        vertical-align: top;\n",
       "    }\n",
       "\n",
       "    .dataframe thead th {\n",
       "        text-align: right;\n",
       "    }\n",
       "</style>\n",
       "<table border=\"1\" class=\"dataframe\">\n",
       "  <thead>\n",
       "    <tr style=\"text-align: right;\">\n",
       "      <th></th>\n",
       "      <th>City</th>\n",
       "      <th>Population</th>\n",
       "      <th>Violent\n",
       "crime</th>\n",
       "      <th>Murder and\n",
       "nonnegligent\n",
       "manslaughter</th>\n",
       "      <th>Rape\n",
       "(revised\n",
       "definition)1</th>\n",
       "      <th>Rape\n",
       "(legacy\n",
       "definition)2</th>\n",
       "      <th>Robbery</th>\n",
       "      <th>Aggravated\n",
       "assault</th>\n",
       "      <th>Property\n",
       "crime</th>\n",
       "      <th>Burglary</th>\n",
       "      <th>Larceny-\n",
       "theft</th>\n",
       "      <th>Motor\n",
       "vehicle\n",
       "theft</th>\n",
       "      <th>Arson3</th>\n",
       "    </tr>\n",
       "  </thead>\n",
       "  <tbody>\n",
       "    <tr>\n",
       "      <th>0</th>\n",
       "      <td>Adams Village</td>\n",
       "      <td>1851.000</td>\n",
       "      <td>0.000</td>\n",
       "      <td>0.000</td>\n",
       "      <td>nan</td>\n",
       "      <td>0.000</td>\n",
       "      <td>0.000</td>\n",
       "      <td>0.000</td>\n",
       "      <td>11.000</td>\n",
       "      <td>1.000</td>\n",
       "      <td>10.000</td>\n",
       "      <td>0.000</td>\n",
       "      <td>0.000</td>\n",
       "    </tr>\n",
       "    <tr>\n",
       "      <th>1</th>\n",
       "      <td>Addison Town and Village</td>\n",
       "      <td>2568.000</td>\n",
       "      <td>2.000</td>\n",
       "      <td>0.000</td>\n",
       "      <td>nan</td>\n",
       "      <td>0.000</td>\n",
       "      <td>1.000</td>\n",
       "      <td>1.000</td>\n",
       "      <td>49.000</td>\n",
       "      <td>1.000</td>\n",
       "      <td>47.000</td>\n",
       "      <td>1.000</td>\n",
       "      <td>0.000</td>\n",
       "    </tr>\n",
       "    <tr>\n",
       "      <th>2</th>\n",
       "      <td>Afton Village4</td>\n",
       "      <td>820.000</td>\n",
       "      <td>0.000</td>\n",
       "      <td>0.000</td>\n",
       "      <td>0.000</td>\n",
       "      <td>nan</td>\n",
       "      <td>0.000</td>\n",
       "      <td>0.000</td>\n",
       "      <td>1.000</td>\n",
       "      <td>0.000</td>\n",
       "      <td>1.000</td>\n",
       "      <td>0.000</td>\n",
       "      <td>0.000</td>\n",
       "    </tr>\n",
       "    <tr>\n",
       "      <th>3</th>\n",
       "      <td>Akron Village</td>\n",
       "      <td>2842.000</td>\n",
       "      <td>1.000</td>\n",
       "      <td>0.000</td>\n",
       "      <td>nan</td>\n",
       "      <td>0.000</td>\n",
       "      <td>0.000</td>\n",
       "      <td>1.000</td>\n",
       "      <td>17.000</td>\n",
       "      <td>0.000</td>\n",
       "      <td>17.000</td>\n",
       "      <td>0.000</td>\n",
       "      <td>0.000</td>\n",
       "    </tr>\n",
       "    <tr>\n",
       "      <th>4</th>\n",
       "      <td>Albany4</td>\n",
       "      <td>98595.000</td>\n",
       "      <td>802.000</td>\n",
       "      <td>8.000</td>\n",
       "      <td>54.000</td>\n",
       "      <td>nan</td>\n",
       "      <td>237.000</td>\n",
       "      <td>503.000</td>\n",
       "      <td>3888.000</td>\n",
       "      <td>683.000</td>\n",
       "      <td>3083.000</td>\n",
       "      <td>122.000</td>\n",
       "      <td>12.000</td>\n",
       "    </tr>\n",
       "  </tbody>\n",
       "</table>\n",
       "</div>"
      ],
      "text/plain": [
       "                       City  Population  Violent\\ncrime  \\\n",
       "0             Adams Village    1851.000           0.000   \n",
       "1  Addison Town and Village    2568.000           2.000   \n",
       "2            Afton Village4     820.000           0.000   \n",
       "3             Akron Village    2842.000           1.000   \n",
       "4                   Albany4   98595.000         802.000   \n",
       "\n",
       "   Murder and\\nnonnegligent\\nmanslaughter  Rape\\n(revised\\ndefinition)1  \\\n",
       "0                                   0.000                           nan   \n",
       "1                                   0.000                           nan   \n",
       "2                                   0.000                         0.000   \n",
       "3                                   0.000                           nan   \n",
       "4                                   8.000                        54.000   \n",
       "\n",
       "   Rape\\n(legacy\\ndefinition)2  Robbery  Aggravated\\nassault  Property\\ncrime  \\\n",
       "0                        0.000    0.000                0.000           11.000   \n",
       "1                        0.000    1.000                1.000           49.000   \n",
       "2                          nan    0.000                0.000            1.000   \n",
       "3                        0.000    0.000                1.000           17.000   \n",
       "4                          nan  237.000              503.000         3888.000   \n",
       "\n",
       "   Burglary  Larceny-\\ntheft  Motor\\nvehicle\\ntheft  Arson3  \n",
       "0     1.000           10.000                  0.000   0.000  \n",
       "1     1.000           47.000                  1.000   0.000  \n",
       "2     0.000            1.000                  0.000   0.000  \n",
       "3     0.000           17.000                  0.000   0.000  \n",
       "4   683.000         3083.000                122.000  12.000  "
      ]
     },
     "execution_count": 4,
     "metadata": {},
     "output_type": "execute_result"
    }
   ],
   "source": [
    "df.head()"
   ]
  },
  {
   "cell_type": "code",
   "execution_count": 5,
   "metadata": {},
   "outputs": [
    {
     "data": {
      "text/plain": [
       "City                                        1\n",
       "Population                                  7\n",
       "Violent\\ncrime                              7\n",
       "Murder and\\nnonnegligent\\nmanslaughter      7\n",
       "Rape\\n(revised\\ndefinition)1              149\n",
       "Rape\\n(legacy\\ndefinition)2               234\n",
       "Robbery                                     7\n",
       "Aggravated\\nassault                         7\n",
       "Property\\ncrime                             8\n",
       "Burglary                                    7\n",
       "Larceny-\\ntheft                             8\n",
       "Motor\\nvehicle\\ntheft                       7\n",
       "Arson3                                     11\n",
       "dtype: int64"
      ]
     },
     "execution_count": 5,
     "metadata": {},
     "output_type": "execute_result"
    }
   ],
   "source": [
    "df.isnull().sum()"
   ]
  },
  {
   "cell_type": "code",
   "execution_count": 6,
   "metadata": {},
   "outputs": [
    {
     "data": {
      "text/html": [
       "<div>\n",
       "<style scoped>\n",
       "    .dataframe tbody tr th:only-of-type {\n",
       "        vertical-align: middle;\n",
       "    }\n",
       "\n",
       "    .dataframe tbody tr th {\n",
       "        vertical-align: top;\n",
       "    }\n",
       "\n",
       "    .dataframe thead th {\n",
       "        text-align: right;\n",
       "    }\n",
       "</style>\n",
       "<table border=\"1\" class=\"dataframe\">\n",
       "  <thead>\n",
       "    <tr style=\"text-align: right;\">\n",
       "      <th></th>\n",
       "      <th>City</th>\n",
       "      <th>Population</th>\n",
       "      <th>Violent\n",
       "crime</th>\n",
       "      <th>Murder and\n",
       "nonnegligent\n",
       "manslaughter</th>\n",
       "      <th>Rape\n",
       "(revised\n",
       "definition)1</th>\n",
       "      <th>Rape\n",
       "(legacy\n",
       "definition)2</th>\n",
       "      <th>Robbery</th>\n",
       "      <th>Aggravated\n",
       "assault</th>\n",
       "      <th>Property\n",
       "crime</th>\n",
       "      <th>Burglary</th>\n",
       "      <th>Larceny-\n",
       "theft</th>\n",
       "      <th>Motor\n",
       "vehicle\n",
       "theft</th>\n",
       "      <th>Arson3</th>\n",
       "    </tr>\n",
       "  </thead>\n",
       "  <tbody>\n",
       "  </tbody>\n",
       "</table>\n",
       "</div>"
      ],
      "text/plain": [
       "Empty DataFrame\n",
       "Columns: [City, Population, Violent\n",
       "crime, Murder and\n",
       "nonnegligent\n",
       "manslaughter, Rape\n",
       "(revised\n",
       "definition)1, Rape\n",
       "(legacy\n",
       "definition)2, Robbery, Aggravated\n",
       "assault, Property\n",
       "crime, Burglary, Larceny-\n",
       "theft, Motor\n",
       "vehicle\n",
       "theft, Arson3]\n",
       "Index: []"
      ]
     },
     "execution_count": 6,
     "metadata": {},
     "output_type": "execute_result"
    }
   ],
   "source": [
    "df.dropna(thresh=235)"
   ]
  },
  {
   "cell_type": "code",
   "execution_count": 7,
   "metadata": {},
   "outputs": [
    {
     "data": {
      "text/plain": [
       "Index(['City', 'Population', 'Violent\\ncrime',\n",
       "       'Murder and\\nnonnegligent\\nmanslaughter',\n",
       "       'Rape\\n(revised\\ndefinition)1', 'Rape\\n(legacy\\ndefinition)2',\n",
       "       'Robbery', 'Aggravated\\nassault', 'Property\\ncrime', 'Burglary',\n",
       "       'Larceny-\\ntheft', 'Motor\\nvehicle\\ntheft', 'Arson3'],\n",
       "      dtype='object')"
      ]
     },
     "execution_count": 7,
     "metadata": {},
     "output_type": "execute_result"
    }
   ],
   "source": [
    "df.columns"
   ]
  },
  {
   "cell_type": "code",
   "execution_count": 8,
   "metadata": {},
   "outputs": [],
   "source": [
    "df.rename(columns={'Murder and\\nnonnegligent\\nmanslaughter':'Murder'}, inplace=True)\n",
    "df.rename(columns={'Rape\\n(revised\\ndefinition)1':'rape1'}, inplace=True)\n",
    "df.rename(columns={'Rape\\n(legacy\\ndefinition)2':'rape2'}, inplace=True)\n",
    "df.rename(columns={'Aggravated\\nassault':'agg_assault'}, inplace=True)\n",
    "df.rename(columns={'Violent\\ncrime':'violent_crime'}, inplace=True)\n",
    "df.rename(columns={'Property\\ncrime':'property_crime'}, inplace=True)\n",
    "df.rename(columns={'Larceny-\\ntheft':'larceny'}, inplace=True)\n",
    "df.rename(columns={'Motor\\nvehicle\\ntheft':'vehicle_theft'}, inplace=True)"
   ]
  },
  {
   "cell_type": "code",
   "execution_count": 9,
   "metadata": {},
   "outputs": [],
   "source": [
    "# Convert all columns to lower case.\n",
    "\n",
    "df.columns = map(str.lower, df.columns)"
   ]
  },
  {
   "cell_type": "code",
   "execution_count": 10,
   "metadata": {},
   "outputs": [
    {
     "data": {
      "text/plain": [
       "count   365.000\n",
       "mean      1.425\n",
       "std       7.995\n",
       "min       0.000\n",
       "25%       0.000\n",
       "50%       0.000\n",
       "75%       1.000\n",
       "max     135.000\n",
       "Name: arson3, dtype: float64"
      ]
     },
     "execution_count": 10,
     "metadata": {},
     "output_type": "execute_result"
    }
   ],
   "source": [
    "df.arson3.describe()"
   ]
  },
  {
   "cell_type": "code",
   "execution_count": 11,
   "metadata": {},
   "outputs": [],
   "source": [
    "# Replace arson3 NaN with mean\n",
    "df.fillna(value=1, inplace=True)"
   ]
  },
  {
   "cell_type": "code",
   "execution_count": 12,
   "metadata": {},
   "outputs": [
    {
     "data": {
      "text/plain": [
       "Index(['city', 'population', 'violent_crime', 'murder', 'rape1', 'rape2',\n",
       "       'robbery', 'agg_assault', 'property_crime', 'burglary', 'larceny',\n",
       "       'vehicle_theft', 'arson3'],\n",
       "      dtype='object')"
      ]
     },
     "execution_count": 12,
     "metadata": {},
     "output_type": "execute_result"
    }
   ],
   "source": [
    "df.columns"
   ]
  },
  {
   "cell_type": "code",
   "execution_count": 13,
   "metadata": {},
   "outputs": [
    {
     "data": {
      "text/plain": [
       "city              0\n",
       "population        0\n",
       "violent_crime     0\n",
       "murder            0\n",
       "rape1             0\n",
       "rape2             0\n",
       "robbery           0\n",
       "agg_assault       0\n",
       "property_crime    0\n",
       "burglary          0\n",
       "larceny           0\n",
       "vehicle_theft     0\n",
       "arson3            0\n",
       "dtype: int64"
      ]
     },
     "execution_count": 13,
     "metadata": {},
     "output_type": "execute_result"
    }
   ],
   "source": [
    "df.isnull().sum()"
   ]
  },
  {
   "cell_type": "code",
   "execution_count": 16,
   "metadata": {},
   "outputs": [],
   "source": [
    "df['population_sq'] = df['population']*df['population']"
   ]
  },
  {
   "cell_type": "code",
   "execution_count": 17,
   "metadata": {},
   "outputs": [
    {
     "data": {
      "text/plain": [
       "city               object\n",
       "population        float64\n",
       "violent_crime     float64\n",
       "murder            float64\n",
       "rape1             float64\n",
       "rape2             float64\n",
       "robbery           float64\n",
       "agg_assault       float64\n",
       "property_crime    float64\n",
       "burglary          float64\n",
       "larceny           float64\n",
       "vehicle_theft     float64\n",
       "arson3            float64\n",
       "population_sq     float64\n",
       "dtype: object"
      ]
     },
     "execution_count": 17,
     "metadata": {},
     "output_type": "execute_result"
    }
   ],
   "source": [
    "df.dtypes"
   ]
  },
  {
   "cell_type": "code",
   "execution_count": 18,
   "metadata": {},
   "outputs": [
    {
     "data": {
      "text/html": [
       "<div>\n",
       "<style scoped>\n",
       "    .dataframe tbody tr th:only-of-type {\n",
       "        vertical-align: middle;\n",
       "    }\n",
       "\n",
       "    .dataframe tbody tr th {\n",
       "        vertical-align: top;\n",
       "    }\n",
       "\n",
       "    .dataframe thead th {\n",
       "        text-align: right;\n",
       "    }\n",
       "</style>\n",
       "<table border=\"1\" class=\"dataframe\">\n",
       "  <thead>\n",
       "    <tr style=\"text-align: right;\">\n",
       "      <th></th>\n",
       "      <th>population</th>\n",
       "      <th>violent_crime</th>\n",
       "      <th>murder</th>\n",
       "      <th>rape1</th>\n",
       "      <th>rape2</th>\n",
       "      <th>robbery</th>\n",
       "      <th>agg_assault</th>\n",
       "      <th>property_crime</th>\n",
       "      <th>burglary</th>\n",
       "      <th>larceny</th>\n",
       "      <th>vehicle_theft</th>\n",
       "      <th>arson3</th>\n",
       "      <th>population_sq</th>\n",
       "    </tr>\n",
       "  </thead>\n",
       "  <tbody>\n",
       "    <tr>\n",
       "      <th>count</th>\n",
       "      <td>376.000</td>\n",
       "      <td>376.000</td>\n",
       "      <td>376.000</td>\n",
       "      <td>376.000</td>\n",
       "      <td>376.000</td>\n",
       "      <td>376.000</td>\n",
       "      <td>376.000</td>\n",
       "      <td>376.000</td>\n",
       "      <td>376.000</td>\n",
       "      <td>376.000</td>\n",
       "      <td>376.000</td>\n",
       "      <td>376.000</td>\n",
       "      <td>376.000</td>\n",
       "    </tr>\n",
       "    <tr>\n",
       "      <th>mean</th>\n",
       "      <td>37110.843</td>\n",
       "      <td>180.290</td>\n",
       "      <td>1.444</td>\n",
       "      <td>9.787</td>\n",
       "      <td>0.625</td>\n",
       "      <td>59.551</td>\n",
       "      <td>109.939</td>\n",
       "      <td>683.524</td>\n",
       "      <td>99.040</td>\n",
       "      <td>550.838</td>\n",
       "      <td>33.697</td>\n",
       "      <td>1.412</td>\n",
       "      <td>191883774324.040</td>\n",
       "    </tr>\n",
       "    <tr>\n",
       "      <th>std</th>\n",
       "      <td>437052.145</td>\n",
       "      <td>2614.214</td>\n",
       "      <td>17.528</td>\n",
       "      <td>113.768</td>\n",
       "      <td>0.485</td>\n",
       "      <td>858.394</td>\n",
       "      <td>1625.201</td>\n",
       "      <td>7047.939</td>\n",
       "      <td>847.193</td>\n",
       "      <td>5807.468</td>\n",
       "      <td>403.166</td>\n",
       "      <td>7.877</td>\n",
       "      <td>3703151887328.392</td>\n",
       "    </tr>\n",
       "    <tr>\n",
       "      <th>min</th>\n",
       "      <td>1.000</td>\n",
       "      <td>0.000</td>\n",
       "      <td>0.000</td>\n",
       "      <td>0.000</td>\n",
       "      <td>0.000</td>\n",
       "      <td>0.000</td>\n",
       "      <td>0.000</td>\n",
       "      <td>0.000</td>\n",
       "      <td>0.000</td>\n",
       "      <td>0.000</td>\n",
       "      <td>0.000</td>\n",
       "      <td>0.000</td>\n",
       "      <td>1.000</td>\n",
       "    </tr>\n",
       "    <tr>\n",
       "      <th>25%</th>\n",
       "      <td>2542.500</td>\n",
       "      <td>1.000</td>\n",
       "      <td>0.000</td>\n",
       "      <td>1.000</td>\n",
       "      <td>0.000</td>\n",
       "      <td>0.000</td>\n",
       "      <td>0.000</td>\n",
       "      <td>22.000</td>\n",
       "      <td>3.000</td>\n",
       "      <td>18.750</td>\n",
       "      <td>0.000</td>\n",
       "      <td>0.000</td>\n",
       "      <td>6464853.000</td>\n",
       "    </tr>\n",
       "    <tr>\n",
       "      <th>50%</th>\n",
       "      <td>6203.000</td>\n",
       "      <td>5.000</td>\n",
       "      <td>0.000</td>\n",
       "      <td>1.000</td>\n",
       "      <td>1.000</td>\n",
       "      <td>1.000</td>\n",
       "      <td>3.000</td>\n",
       "      <td>74.500</td>\n",
       "      <td>12.000</td>\n",
       "      <td>57.500</td>\n",
       "      <td>2.000</td>\n",
       "      <td>0.000</td>\n",
       "      <td>38524733.000</td>\n",
       "    </tr>\n",
       "    <tr>\n",
       "      <th>75%</th>\n",
       "      <td>15227.750</td>\n",
       "      <td>17.000</td>\n",
       "      <td>0.000</td>\n",
       "      <td>2.000</td>\n",
       "      <td>1.000</td>\n",
       "      <td>4.000</td>\n",
       "      <td>12.000</td>\n",
       "      <td>266.500</td>\n",
       "      <td>38.250</td>\n",
       "      <td>222.250</td>\n",
       "      <td>6.000</td>\n",
       "      <td>1.000</td>\n",
       "      <td>231884437.750</td>\n",
       "    </tr>\n",
       "    <tr>\n",
       "      <th>max</th>\n",
       "      <td>8473938.000</td>\n",
       "      <td>50564.000</td>\n",
       "      <td>333.000</td>\n",
       "      <td>2190.000</td>\n",
       "      <td>1.000</td>\n",
       "      <td>16581.000</td>\n",
       "      <td>31460.000</td>\n",
       "      <td>135747.000</td>\n",
       "      <td>15916.000</td>\n",
       "      <td>112107.000</td>\n",
       "      <td>7724.000</td>\n",
       "      <td>135.000</td>\n",
       "      <td>71807625227844.000</td>\n",
       "    </tr>\n",
       "  </tbody>\n",
       "</table>\n",
       "</div>"
      ],
      "text/plain": [
       "       population  violent_crime  murder    rape1   rape2   robbery  \\\n",
       "count     376.000        376.000 376.000  376.000 376.000   376.000   \n",
       "mean    37110.843        180.290   1.444    9.787   0.625    59.551   \n",
       "std    437052.145       2614.214  17.528  113.768   0.485   858.394   \n",
       "min         1.000          0.000   0.000    0.000   0.000     0.000   \n",
       "25%      2542.500          1.000   0.000    1.000   0.000     0.000   \n",
       "50%      6203.000          5.000   0.000    1.000   1.000     1.000   \n",
       "75%     15227.750         17.000   0.000    2.000   1.000     4.000   \n",
       "max   8473938.000      50564.000 333.000 2190.000   1.000 16581.000   \n",
       "\n",
       "       agg_assault  property_crime  burglary    larceny  vehicle_theft  \\\n",
       "count      376.000         376.000   376.000    376.000        376.000   \n",
       "mean       109.939         683.524    99.040    550.838         33.697   \n",
       "std       1625.201        7047.939   847.193   5807.468        403.166   \n",
       "min          0.000           0.000     0.000      0.000          0.000   \n",
       "25%          0.000          22.000     3.000     18.750          0.000   \n",
       "50%          3.000          74.500    12.000     57.500          2.000   \n",
       "75%         12.000         266.500    38.250    222.250          6.000   \n",
       "max      31460.000      135747.000 15916.000 112107.000       7724.000   \n",
       "\n",
       "       arson3      population_sq  \n",
       "count 376.000            376.000  \n",
       "mean    1.412   191883774324.040  \n",
       "std     7.877  3703151887328.392  \n",
       "min     0.000              1.000  \n",
       "25%     0.000        6464853.000  \n",
       "50%     0.000       38524733.000  \n",
       "75%     1.000      231884437.750  \n",
       "max   135.000 71807625227844.000  "
      ]
     },
     "execution_count": 18,
     "metadata": {},
     "output_type": "execute_result"
    }
   ],
   "source": [
    "df.describe()"
   ]
  },
  {
   "cell_type": "code",
   "execution_count": 19,
   "metadata": {},
   "outputs": [
    {
     "data": {
      "text/plain": [
       "count       376.000\n",
       "mean      37110.843\n",
       "std      437052.145\n",
       "min           1.000\n",
       "25%        2542.500\n",
       "50%        6203.000\n",
       "75%       15227.750\n",
       "max     8473938.000\n",
       "Name: population, dtype: float64"
      ]
     },
     "execution_count": 19,
     "metadata": {},
     "output_type": "execute_result"
    }
   ],
   "source": [
    "df.population.describe()"
   ]
  },
  {
   "cell_type": "code",
   "execution_count": 20,
   "metadata": {
    "scrolled": true
   },
   "outputs": [
    {
     "data": {
      "text/plain": [
       "Text(0,0.5,'population')"
      ]
     },
     "execution_count": 20,
     "metadata": {},
     "output_type": "execute_result"
    },
    {
     "data": {
      "image/png": "[encoded data removed]",
      "text/plain": [
       "<matplotlib.figure.Figure at 0xbe7470>"
      ]
     },
     "metadata": {},
     "output_type": "display_data"
    }
   ],
   "source": [
    "plt.scatter(x=df.index, y=\"population\", data=df)\n",
    "plt.xlabel('city')\n",
    "plt.ylabel('population')"
   ]
  },
  {
   "cell_type": "code",
   "execution_count": 21,
   "metadata": {},
   "outputs": [
    {
     "data": {
      "text/html": [
       "<div>\n",
       "<style scoped>\n",
       "    .dataframe tbody tr th:only-of-type {\n",
       "        vertical-align: middle;\n",
       "    }\n",
       "\n",
       "    .dataframe tbody tr th {\n",
       "        vertical-align: top;\n",
       "    }\n",
       "\n",
       "    .dataframe thead th {\n",
       "        text-align: right;\n",
       "    }\n",
       "</style>\n",
       "<table border=\"1\" class=\"dataframe\">\n",
       "  <thead>\n",
       "    <tr style=\"text-align: right;\">\n",
       "      <th></th>\n",
       "      <th>city</th>\n",
       "      <th>population</th>\n",
       "      <th>violent_crime</th>\n",
       "      <th>murder</th>\n",
       "      <th>rape1</th>\n",
       "      <th>rape2</th>\n",
       "      <th>robbery</th>\n",
       "      <th>agg_assault</th>\n",
       "      <th>property_crime</th>\n",
       "      <th>burglary</th>\n",
       "      <th>larceny</th>\n",
       "      <th>vehicle_theft</th>\n",
       "      <th>arson3</th>\n",
       "      <th>population_sq</th>\n",
       "    </tr>\n",
       "  </thead>\n",
       "  <tbody>\n",
       "    <tr>\n",
       "      <th>9</th>\n",
       "      <td>Amherst Town4</td>\n",
       "      <td>118860.000</td>\n",
       "      <td>128.000</td>\n",
       "      <td>1.000</td>\n",
       "      <td>16.000</td>\n",
       "      <td>1.000</td>\n",
       "      <td>43.000</td>\n",
       "      <td>68.000</td>\n",
       "      <td>2066.000</td>\n",
       "      <td>176.000</td>\n",
       "      <td>1846.000</td>\n",
       "      <td>44.000</td>\n",
       "      <td>2.000</td>\n",
       "      <td>14127699600.000</td>\n",
       "    </tr>\n",
       "    <tr>\n",
       "      <th>38</th>\n",
       "      <td>Buffalo4</td>\n",
       "      <td>258419.000</td>\n",
       "      <td>3174.000</td>\n",
       "      <td>60.000</td>\n",
       "      <td>174.000</td>\n",
       "      <td>1.000</td>\n",
       "      <td>1277.000</td>\n",
       "      <td>1663.000</td>\n",
       "      <td>12449.000</td>\n",
       "      <td>3119.000</td>\n",
       "      <td>8362.000</td>\n",
       "      <td>968.000</td>\n",
       "      <td>1.000</td>\n",
       "      <td>66780379561.000</td>\n",
       "    </tr>\n",
       "    <tr>\n",
       "      <th>227</th>\n",
       "      <td>New York4</td>\n",
       "      <td>8473938.000</td>\n",
       "      <td>50564.000</td>\n",
       "      <td>333.000</td>\n",
       "      <td>2190.000</td>\n",
       "      <td>1.000</td>\n",
       "      <td>16581.000</td>\n",
       "      <td>31460.000</td>\n",
       "      <td>135747.000</td>\n",
       "      <td>15916.000</td>\n",
       "      <td>112107.000</td>\n",
       "      <td>7724.000</td>\n",
       "      <td>1.000</td>\n",
       "      <td>71807625227844.000</td>\n",
       "    </tr>\n",
       "    <tr>\n",
       "      <th>283</th>\n",
       "      <td>Rochester4</td>\n",
       "      <td>210347.000</td>\n",
       "      <td>1765.000</td>\n",
       "      <td>27.000</td>\n",
       "      <td>190.000</td>\n",
       "      <td>1.000</td>\n",
       "      <td>698.000</td>\n",
       "      <td>850.000</td>\n",
       "      <td>8856.000</td>\n",
       "      <td>2125.000</td>\n",
       "      <td>6058.000</td>\n",
       "      <td>673.000</td>\n",
       "      <td>135.000</td>\n",
       "      <td>44245860409.000</td>\n",
       "    </tr>\n",
       "    <tr>\n",
       "      <th>326</th>\n",
       "      <td>Syracuse4</td>\n",
       "      <td>144534.000</td>\n",
       "      <td>1164.000</td>\n",
       "      <td>20.000</td>\n",
       "      <td>70.000</td>\n",
       "      <td>1.000</td>\n",
       "      <td>406.000</td>\n",
       "      <td>668.000</td>\n",
       "      <td>5755.000</td>\n",
       "      <td>1404.000</td>\n",
       "      <td>3986.000</td>\n",
       "      <td>365.000</td>\n",
       "      <td>57.000</td>\n",
       "      <td>20890077156.000</td>\n",
       "    </tr>\n",
       "    <tr>\n",
       "      <th>366</th>\n",
       "      <td>Yonkers4</td>\n",
       "      <td>200624.000</td>\n",
       "      <td>974.000</td>\n",
       "      <td>3.000</td>\n",
       "      <td>33.000</td>\n",
       "      <td>1.000</td>\n",
       "      <td>358.000</td>\n",
       "      <td>580.000</td>\n",
       "      <td>2009.000</td>\n",
       "      <td>414.000</td>\n",
       "      <td>1395.000</td>\n",
       "      <td>200.000</td>\n",
       "      <td>15.000</td>\n",
       "      <td>40249989376.000</td>\n",
       "    </tr>\n",
       "  </tbody>\n",
       "</table>\n",
       "</div>"
      ],
      "text/plain": [
       "              city  population  violent_crime  murder    rape1  rape2  \\\n",
       "9    Amherst Town4  118860.000        128.000   1.000   16.000  1.000   \n",
       "38        Buffalo4  258419.000       3174.000  60.000  174.000  1.000   \n",
       "227      New York4 8473938.000      50564.000 333.000 2190.000  1.000   \n",
       "283     Rochester4  210347.000       1765.000  27.000  190.000  1.000   \n",
       "326      Syracuse4  144534.000       1164.000  20.000   70.000  1.000   \n",
       "366       Yonkers4  200624.000        974.000   3.000   33.000  1.000   \n",
       "\n",
       "      robbery  agg_assault  property_crime  burglary    larceny  \\\n",
       "9      43.000       68.000        2066.000   176.000   1846.000   \n",
       "38   1277.000     1663.000       12449.000  3119.000   8362.000   \n",
       "227 16581.000    31460.000      135747.000 15916.000 112107.000   \n",
       "283   698.000      850.000        8856.000  2125.000   6058.000   \n",
       "326   406.000      668.000        5755.000  1404.000   3986.000   \n",
       "366   358.000      580.000        2009.000   414.000   1395.000   \n",
       "\n",
       "     vehicle_theft  arson3      population_sq  \n",
       "9           44.000   2.000    14127699600.000  \n",
       "38         968.000   1.000    66780379561.000  \n",
       "227       7724.000   1.000 71807625227844.000  \n",
       "283        673.000 135.000    44245860409.000  \n",
       "326        365.000  57.000    20890077156.000  \n",
       "366        200.000  15.000    40249989376.000  "
      ]
     },
     "execution_count": 21,
     "metadata": {},
     "output_type": "execute_result"
    }
   ],
   "source": [
    "df[df['population'] > 100000]"
   ]
  },
  {
   "cell_type": "code",
   "execution_count": 22,
   "metadata": {},
   "outputs": [],
   "source": [
    "df = df[df.city != 'New York4']"
   ]
  },
  {
   "cell_type": "code",
   "execution_count": 23,
   "metadata": {},
   "outputs": [
    {
     "data": {
      "text/plain": [
       "count      375.000\n",
       "mean     14612.637\n",
       "std      26396.832\n",
       "min          1.000\n",
       "25%       2529.000\n",
       "50%       5985.000\n",
       "75%      15219.500\n",
       "max     258419.000\n",
       "Name: population, dtype: float64"
      ]
     },
     "execution_count": 23,
     "metadata": {},
     "output_type": "execute_result"
    }
   ],
   "source": [
    "df.population.describe()"
   ]
  },
  {
   "cell_type": "code",
   "execution_count": 24,
   "metadata": {},
   "outputs": [
    {
     "data": {
      "text/plain": [
       "Text(0,0.5,'population')"
      ]
     },
     "execution_count": 24,
     "metadata": {},
     "output_type": "execute_result"
    },
    {
     "data": {
      "image/png": "[encoded data removed]",
      "text/plain": [
       "<matplotlib.figure.Figure at 0xf2efeb0>"
      ]
     },
     "metadata": {},
     "output_type": "display_data"
    }
   ],
   "source": [
    "plt.scatter(x=df.index, y=\"population\", data=df)\n",
    "plt.xlabel('city')\n",
    "plt.ylabel('population')"
   ]
  },
  {
   "cell_type": "code",
   "execution_count": 25,
   "metadata": {},
   "outputs": [
    {
     "data": {
      "text/html": [
       "<div>\n",
       "<style scoped>\n",
       "    .dataframe tbody tr th:only-of-type {\n",
       "        vertical-align: middle;\n",
       "    }\n",
       "\n",
       "    .dataframe tbody tr th {\n",
       "        vertical-align: top;\n",
       "    }\n",
       "\n",
       "    .dataframe thead th {\n",
       "        text-align: right;\n",
       "    }\n",
       "</style>\n",
       "<table border=\"1\" class=\"dataframe\">\n",
       "  <thead>\n",
       "    <tr style=\"text-align: right;\">\n",
       "      <th></th>\n",
       "      <th>city</th>\n",
       "      <th>population</th>\n",
       "      <th>violent_crime</th>\n",
       "      <th>murder</th>\n",
       "      <th>rape1</th>\n",
       "      <th>rape2</th>\n",
       "      <th>robbery</th>\n",
       "      <th>agg_assault</th>\n",
       "      <th>property_crime</th>\n",
       "      <th>burglary</th>\n",
       "      <th>larceny</th>\n",
       "      <th>vehicle_theft</th>\n",
       "      <th>arson3</th>\n",
       "      <th>population_sq</th>\n",
       "    </tr>\n",
       "  </thead>\n",
       "  <tbody>\n",
       "    <tr>\n",
       "      <th>0</th>\n",
       "      <td>Adams Village</td>\n",
       "      <td>1851.000</td>\n",
       "      <td>0.000</td>\n",
       "      <td>0.000</td>\n",
       "      <td>1.000</td>\n",
       "      <td>0.000</td>\n",
       "      <td>0.000</td>\n",
       "      <td>0.000</td>\n",
       "      <td>11.000</td>\n",
       "      <td>1.000</td>\n",
       "      <td>10.000</td>\n",
       "      <td>0.000</td>\n",
       "      <td>0.000</td>\n",
       "      <td>3426201.000</td>\n",
       "    </tr>\n",
       "    <tr>\n",
       "      <th>1</th>\n",
       "      <td>Addison Town and Village</td>\n",
       "      <td>2568.000</td>\n",
       "      <td>2.000</td>\n",
       "      <td>0.000</td>\n",
       "      <td>1.000</td>\n",
       "      <td>0.000</td>\n",
       "      <td>1.000</td>\n",
       "      <td>1.000</td>\n",
       "      <td>49.000</td>\n",
       "      <td>1.000</td>\n",
       "      <td>47.000</td>\n",
       "      <td>1.000</td>\n",
       "      <td>0.000</td>\n",
       "      <td>6594624.000</td>\n",
       "    </tr>\n",
       "    <tr>\n",
       "      <th>2</th>\n",
       "      <td>Afton Village4</td>\n",
       "      <td>820.000</td>\n",
       "      <td>0.000</td>\n",
       "      <td>0.000</td>\n",
       "      <td>0.000</td>\n",
       "      <td>1.000</td>\n",
       "      <td>0.000</td>\n",
       "      <td>0.000</td>\n",
       "      <td>1.000</td>\n",
       "      <td>0.000</td>\n",
       "      <td>1.000</td>\n",
       "      <td>0.000</td>\n",
       "      <td>0.000</td>\n",
       "      <td>672400.000</td>\n",
       "    </tr>\n",
       "    <tr>\n",
       "      <th>3</th>\n",
       "      <td>Akron Village</td>\n",
       "      <td>2842.000</td>\n",
       "      <td>1.000</td>\n",
       "      <td>0.000</td>\n",
       "      <td>1.000</td>\n",
       "      <td>0.000</td>\n",
       "      <td>0.000</td>\n",
       "      <td>1.000</td>\n",
       "      <td>17.000</td>\n",
       "      <td>0.000</td>\n",
       "      <td>17.000</td>\n",
       "      <td>0.000</td>\n",
       "      <td>0.000</td>\n",
       "      <td>8076964.000</td>\n",
       "    </tr>\n",
       "    <tr>\n",
       "      <th>4</th>\n",
       "      <td>Albany4</td>\n",
       "      <td>98595.000</td>\n",
       "      <td>802.000</td>\n",
       "      <td>8.000</td>\n",
       "      <td>54.000</td>\n",
       "      <td>1.000</td>\n",
       "      <td>237.000</td>\n",
       "      <td>503.000</td>\n",
       "      <td>3888.000</td>\n",
       "      <td>683.000</td>\n",
       "      <td>3083.000</td>\n",
       "      <td>122.000</td>\n",
       "      <td>12.000</td>\n",
       "      <td>9720974025.000</td>\n",
       "    </tr>\n",
       "  </tbody>\n",
       "</table>\n",
       "</div>"
      ],
      "text/plain": [
       "                       city  population  violent_crime  murder  rape1  rape2  \\\n",
       "0             Adams Village    1851.000          0.000   0.000  1.000  0.000   \n",
       "1  Addison Town and Village    2568.000          2.000   0.000  1.000  0.000   \n",
       "2            Afton Village4     820.000          0.000   0.000  0.000  1.000   \n",
       "3             Akron Village    2842.000          1.000   0.000  1.000  0.000   \n",
       "4                   Albany4   98595.000        802.000   8.000 54.000  1.000   \n",
       "\n",
       "   robbery  agg_assault  property_crime  burglary  larceny  vehicle_theft  \\\n",
       "0    0.000        0.000          11.000     1.000   10.000          0.000   \n",
       "1    1.000        1.000          49.000     1.000   47.000          1.000   \n",
       "2    0.000        0.000           1.000     0.000    1.000          0.000   \n",
       "3    0.000        1.000          17.000     0.000   17.000          0.000   \n",
       "4  237.000      503.000        3888.000   683.000 3083.000        122.000   \n",
       "\n",
       "   arson3  population_sq  \n",
       "0   0.000    3426201.000  \n",
       "1   0.000    6594624.000  \n",
       "2   0.000     672400.000  \n",
       "3   0.000    8076964.000  \n",
       "4  12.000 9720974025.000  "
      ]
     },
     "execution_count": 25,
     "metadata": {},
     "output_type": "execute_result"
    }
   ],
   "source": [
    "df.head()"
   ]
  },
  {
   "cell_type": "code",
   "execution_count": 26,
   "metadata": {},
   "outputs": [
    {
     "name": "stdout",
     "output_type": "stream",
     "text": [
      "<class 'pandas.core.frame.DataFrame'>\n",
      "Int64Index: 375 entries, 0 to 375\n",
      "Data columns (total 14 columns):\n",
      "city              375 non-null object\n",
      "population        375 non-null float64\n",
      "violent_crime     375 non-null float64\n",
      "murder            375 non-null float64\n",
      "rape1             375 non-null float64\n",
      "rape2             375 non-null float64\n",
      "robbery           375 non-null float64\n",
      "agg_assault       375 non-null float64\n",
      "property_crime    375 non-null float64\n",
      "burglary          375 non-null float64\n",
      "larceny           375 non-null float64\n",
      "vehicle_theft     375 non-null float64\n",
      "arson3            375 non-null float64\n",
      "population_sq     375 non-null float64\n",
      "dtypes: float64(13), object(1)\n",
      "memory usage: 42.5+ KB\n"
     ]
    }
   ],
   "source": [
    "df.info()"
   ]
  },
  {
   "cell_type": "code",
   "execution_count": 27,
   "metadata": {
    "scrolled": true
   },
   "outputs": [
    {
     "name": "stdout",
     "output_type": "stream",
     "text": [
      "\n",
      "Coefficients: \n",
      " [ 2.03163510e-02 -5.17326898e-08  1.31574384e+02  2.58621944e+00]\n",
      "\n",
      "Intercept: \n",
      " -40.27434280488234\n",
      "\n",
      "R-squared: \n",
      " 0.9304924167497782\n"
     ]
    }
   ],
   "source": [
    "# Instantiate and fit our model.\n",
    "regr = linear_model.LinearRegression()\n",
    "Y = df['property_crime']\n",
    "X = df[['population', 'population_sq', 'murder', 'robbery']]\n",
    "regr.fit(X, Y)\n",
    "\n",
    "# Inspect the results.\n",
    "print('\\nCoefficients: \\n', regr.coef_)\n",
    "print('\\nIntercept: \\n', regr.intercept_)\n",
    "print('\\nR-squared: \\n', regr.score(X, Y))"
   ]
  },
  {
   "cell_type": "code",
   "execution_count": 28,
   "metadata": {},
   "outputs": [],
   "source": [
    "Y = df['property_crime'].values.reshape(-1, 1)\n",
    "\n",
    "min_max_scaler = preprocessing.MinMaxScaler()\n",
    "X_train, X_test, Y_train, Y_test = train_test_split(X, Y, test_size=.2)\n",
    "\n",
    "X_train_minmax = min_max_scaler.fit_transform(X_train)\n",
    "X_test_minmax = min_max_scaler.transform(X_test)\n",
    "Y_train_minmax = min_max_scaler.fit_transform(Y_train)\n",
    "Y_test_minmax = min_max_scaler.transform(Y_test)\n"
   ]
  },
  {
   "cell_type": "code",
   "execution_count": 29,
   "metadata": {},
   "outputs": [
    {
     "name": "stdout",
     "output_type": "stream",
     "text": [
      "Coefficients: \n",
      " [[ 0.4792787  -0.57971177  0.34462336  0.68802278]]\n",
      "Intercept: \n",
      " [-0.00432243]\n",
      "0.9376856255732421\n"
     ]
    }
   ],
   "source": [
    "# Scale data\n",
    "\n",
    "regr.fit(X_train_minmax, Y_train_minmax) \n",
    "\n",
    "print('Coefficients: \\n', regr.coef_)\n",
    "print('Intercept: \\n', regr.intercept_)\n",
    "print(regr.score(X_train_minmax, Y_train_minmax))"
   ]
  },
  {
   "cell_type": "code",
   "execution_count": 30,
   "metadata": {},
   "outputs": [
    {
     "name": "stdout",
     "output_type": "stream",
     "text": [
      "Coefficients: \n",
      " [[ 0.30115326  0.69502928 -0.13131852  0.15713769]]\n",
      "Intercept: \n",
      " [-0.00072397]\n",
      "0.9762574195100425\n"
     ]
    }
   ],
   "source": [
    "# Scale data\n",
    "\n",
    "regr.fit(X_test_minmax, Y_test_minmax) \n",
    "\n",
    "print('Coefficients: \\n', regr.coef_)\n",
    "print('Intercept: \\n', regr.intercept_)\n",
    "print(regr.score(X_test_minmax, Y_test_minmax))"
   ]
  },
  {
   "cell_type": "code",
   "execution_count": 31,
   "metadata": {
    "scrolled": false
   },
   "outputs": [
    {
     "name": "stdout",
     "output_type": "stream",
     "text": [
      "Coefficients: \n",
      " [[ 2.01786207e-02 -1.16031813e-07  1.13036461e+02  8.72941220e+00]]\n",
      "Intercept: \n",
      " [-38.299584]\n",
      "0.937685625573242\n"
     ]
    }
   ],
   "source": [
    "regr.fit(X_train, Y_train)\n",
    "\n",
    "print('Coefficients: \\n', regr.coef_)\n",
    "print('Intercept: \\n', regr.intercept_)\n",
    "print(regr.score(X_train, Y_train))"
   ]
  },
  {
   "cell_type": "code",
   "execution_count": 32,
   "metadata": {},
   "outputs": [
    {
     "name": "stdout",
     "output_type": "stream",
     "text": [
      "Coefficients: \n",
      " [[ 1.26791726e-02  1.39113112e-07 -4.30724749e+01  1.99371253e+00]]\n",
      "Intercept: \n",
      " [-6.42416832]\n",
      "0.9762574195100425\n"
     ]
    }
   ],
   "source": [
    "regr.fit(X_test, Y_test)\n",
    "\n",
    "print('Coefficients: \\n', regr.coef_)\n",
    "print('Intercept: \\n', regr.intercept_)\n",
    "print(regr.score(X_test, Y_test))"
   ]
  },
  {
   "cell_type": "code",
   "execution_count": 33,
   "metadata": {},
   "outputs": [
    {
     "name": "stdout",
     "output_type": "stream",
     "text": [
      "\n",
      "Coefficients: \n",
      " [ 2.20524574e-06 -2.02990404e-11 -1.09066723e-01 -1.45210812e-03\n",
      "  4.17480356e-03 -1.09239913e-01 -5.79161078e-03  1.00128897e+00\n",
      "  9.99930119e-01  1.00229064e+00 -1.27903115e-02]\n",
      "\n",
      "Intercept: \n",
      " -0.01965158263487865\n",
      "\n",
      "R-squared: \n",
      " 0.9999998545555605\n"
     ]
    }
   ],
   "source": [
    "# Instantiate and fit our model.\n",
    "regr = linear_model.LinearRegression()\n",
    "Y = df['property_crime']\n",
    "X = df[['population', 'population_sq', 'murder', 'robbery', 'violent_crime', 'rape2', 'agg_assault', \\\n",
    "        'burglary', 'larceny', 'vehicle_theft', 'arson3']]\n",
    "regr.fit(X, Y)\n",
    "\n",
    "# Inspect the results.\n",
    "print('\\nCoefficients: \\n', regr.coef_)\n",
    "print('\\nIntercept: \\n', regr.intercept_)\n",
    "print('\\nR-squared: \\n', regr.score(X, Y))"
   ]
  },
  {
   "cell_type": "code",
   "execution_count": 34,
   "metadata": {},
   "outputs": [],
   "source": [
    "X1 = df[['population', 'population_sq']]"
   ]
  },
  {
   "cell_type": "code",
   "execution_count": 35,
   "metadata": {},
   "outputs": [
    {
     "data": {
      "text/html": [
       "<div>\n",
       "<style scoped>\n",
       "    .dataframe tbody tr th:only-of-type {\n",
       "        vertical-align: middle;\n",
       "    }\n",
       "\n",
       "    .dataframe tbody tr th {\n",
       "        vertical-align: top;\n",
       "    }\n",
       "\n",
       "    .dataframe thead th {\n",
       "        text-align: right;\n",
       "    }\n",
       "</style>\n",
       "<table border=\"1\" class=\"dataframe\">\n",
       "  <thead>\n",
       "    <tr style=\"text-align: right;\">\n",
       "      <th></th>\n",
       "      <th>population</th>\n",
       "      <th>population_sq</th>\n",
       "    </tr>\n",
       "  </thead>\n",
       "  <tbody>\n",
       "    <tr>\n",
       "      <th>0</th>\n",
       "      <td>1851.000</td>\n",
       "      <td>3426201.000</td>\n",
       "    </tr>\n",
       "    <tr>\n",
       "      <th>1</th>\n",
       "      <td>2568.000</td>\n",
       "      <td>6594624.000</td>\n",
       "    </tr>\n",
       "    <tr>\n",
       "      <th>2</th>\n",
       "      <td>820.000</td>\n",
       "      <td>672400.000</td>\n",
       "    </tr>\n",
       "    <tr>\n",
       "      <th>3</th>\n",
       "      <td>2842.000</td>\n",
       "      <td>8076964.000</td>\n",
       "    </tr>\n",
       "    <tr>\n",
       "      <th>4</th>\n",
       "      <td>98595.000</td>\n",
       "      <td>9720974025.000</td>\n",
       "    </tr>\n",
       "  </tbody>\n",
       "</table>\n",
       "</div>"
      ],
      "text/plain": [
       "   population  population_sq\n",
       "0    1851.000    3426201.000\n",
       "1    2568.000    6594624.000\n",
       "2     820.000     672400.000\n",
       "3    2842.000    8076964.000\n",
       "4   98595.000 9720974025.000"
      ]
     },
     "execution_count": 35,
     "metadata": {},
     "output_type": "execute_result"
    }
   ],
   "source": [
    "X1.head()"
   ]
  },
  {
   "cell_type": "code",
   "execution_count": 34,
   "metadata": {},
   "outputs": [
    {
     "name": "stdout",
     "output_type": "stream",
     "text": [
      "                            OLS Regression Results                            \n",
      "==============================================================================\n",
      "Dep. Variable:         property_crime   R-squared:                       0.832\n",
      "Model:                            OLS   Adj. R-squared:                  0.831\n",
      "Method:                 Least Squares   F-statistic:                     922.5\n",
      "Date:                Tue, 19 Jun 2018   Prob (F-statistic):          6.40e-145\n",
      "Time:                        08:48:56   Log-Likelihood:                -2767.6\n",
      "No. Observations:                 375   AIC:                             5541.\n",
      "Df Residuals:                     372   BIC:                             5553.\n",
      "Df Model:                           2                                         \n",
      "Covariance Type:            nonrobust                                         \n",
      "=================================================================================\n",
      "                    coef    std err          t      P>|t|      [0.025      0.975]\n",
      "---------------------------------------------------------------------------------\n",
      "const             8.3569     26.605      0.314      0.754     -43.957      60.671\n",
      "population        0.0154      0.002      9.301      0.000       0.012       0.019\n",
      "population_sq  9.901e-08   8.93e-09     11.082      0.000    8.14e-08    1.17e-07\n",
      "==============================================================================\n",
      "Omnibus:                      451.627   Durbin-Watson:                   1.874\n",
      "Prob(Omnibus):                  0.000   Jarque-Bera (JB):           102117.860\n",
      "Skew:                          -5.017   Prob(JB):                         0.00\n",
      "Kurtosis:                      83.218   Cond. No.                     6.57e+09\n",
      "==============================================================================\n",
      "\n",
      "Warnings:\n",
      "[1] Standard Errors assume that the covariance matrix of the errors is correctly specified.\n",
      "[2] The condition number is large, 6.57e+09. This might indicate that there are\n",
      "strong multicollinearity or other numerical problems.\n"
     ]
    }
   ],
   "source": [
    "X2 = smf.add_constant(X1)\n",
    "est = smf.OLS(Y, X2)\n",
    "est2 = est.fit()\n",
    "print(est2.summary())"
   ]
  },
  {
   "cell_type": "code",
   "execution_count": 46,
   "metadata": {},
   "outputs": [],
   "source": [
    "X3 = df[['population', 'population_sq', 'murder', 'robbery', 'violent_crime', 'rape2', 'agg_assault', \\\n",
    "        'burglary', 'larceny', 'vehicle_theft', 'arson3']]"
   ]
  },
  {
   "cell_type": "code",
   "execution_count": 47,
   "metadata": {},
   "outputs": [
    {
     "data": {
      "text/html": [
       "<div>\n",
       "<style scoped>\n",
       "    .dataframe tbody tr th:only-of-type {\n",
       "        vertical-align: middle;\n",
       "    }\n",
       "\n",
       "    .dataframe tbody tr th {\n",
       "        vertical-align: top;\n",
       "    }\n",
       "\n",
       "    .dataframe thead th {\n",
       "        text-align: right;\n",
       "    }\n",
       "</style>\n",
       "<table border=\"1\" class=\"dataframe\">\n",
       "  <thead>\n",
       "    <tr style=\"text-align: right;\">\n",
       "      <th></th>\n",
       "      <th>population</th>\n",
       "      <th>population_sq</th>\n",
       "      <th>murder</th>\n",
       "      <th>robbery</th>\n",
       "      <th>violent_crime</th>\n",
       "      <th>rape2</th>\n",
       "      <th>agg_assault</th>\n",
       "      <th>burglary</th>\n",
       "      <th>larceny</th>\n",
       "      <th>vehicle_theft</th>\n",
       "      <th>arson3</th>\n",
       "    </tr>\n",
       "  </thead>\n",
       "  <tbody>\n",
       "    <tr>\n",
       "      <th>population</th>\n",
       "      <td>1.000</td>\n",
       "      <td>0.887</td>\n",
       "      <td>0.724</td>\n",
       "      <td>0.815</td>\n",
       "      <td>0.830</td>\n",
       "      <td>0.196</td>\n",
       "      <td>0.830</td>\n",
       "      <td>0.818</td>\n",
       "      <td>0.893</td>\n",
       "      <td>0.814</td>\n",
       "      <td>0.557</td>\n",
       "    </tr>\n",
       "    <tr>\n",
       "      <th>population_sq</th>\n",
       "      <td>0.887</td>\n",
       "      <td>1.000</td>\n",
       "      <td>0.873</td>\n",
       "      <td>0.936</td>\n",
       "      <td>0.929</td>\n",
       "      <td>0.120</td>\n",
       "      <td>0.915</td>\n",
       "      <td>0.895</td>\n",
       "      <td>0.869</td>\n",
       "      <td>0.930</td>\n",
       "      <td>0.552</td>\n",
       "    </tr>\n",
       "    <tr>\n",
       "      <th>murder</th>\n",
       "      <td>0.724</td>\n",
       "      <td>0.873</td>\n",
       "      <td>1.000</td>\n",
       "      <td>0.966</td>\n",
       "      <td>0.953</td>\n",
       "      <td>0.078</td>\n",
       "      <td>0.935</td>\n",
       "      <td>0.951</td>\n",
       "      <td>0.866</td>\n",
       "      <td>0.964</td>\n",
       "      <td>0.476</td>\n",
       "    </tr>\n",
       "    <tr>\n",
       "      <th>robbery</th>\n",
       "      <td>0.815</td>\n",
       "      <td>0.936</td>\n",
       "      <td>0.966</td>\n",
       "      <td>1.000</td>\n",
       "      <td>0.994</td>\n",
       "      <td>0.100</td>\n",
       "      <td>0.982</td>\n",
       "      <td>0.963</td>\n",
       "      <td>0.895</td>\n",
       "      <td>0.984</td>\n",
       "      <td>0.537</td>\n",
       "    </tr>\n",
       "    <tr>\n",
       "      <th>violent_crime</th>\n",
       "      <td>0.830</td>\n",
       "      <td>0.929</td>\n",
       "      <td>0.953</td>\n",
       "      <td>0.994</td>\n",
       "      <td>1.000</td>\n",
       "      <td>0.119</td>\n",
       "      <td>0.996</td>\n",
       "      <td>0.973</td>\n",
       "      <td>0.913</td>\n",
       "      <td>0.977</td>\n",
       "      <td>0.557</td>\n",
       "    </tr>\n",
       "    <tr>\n",
       "      <th>rape2</th>\n",
       "      <td>0.196</td>\n",
       "      <td>0.120</td>\n",
       "      <td>0.078</td>\n",
       "      <td>0.100</td>\n",
       "      <td>0.119</td>\n",
       "      <td>1.000</td>\n",
       "      <td>0.124</td>\n",
       "      <td>0.126</td>\n",
       "      <td>0.177</td>\n",
       "      <td>0.101</td>\n",
       "      <td>0.098</td>\n",
       "    </tr>\n",
       "    <tr>\n",
       "      <th>agg_assault</th>\n",
       "      <td>0.830</td>\n",
       "      <td>0.915</td>\n",
       "      <td>0.935</td>\n",
       "      <td>0.982</td>\n",
       "      <td>0.996</td>\n",
       "      <td>0.124</td>\n",
       "      <td>1.000</td>\n",
       "      <td>0.964</td>\n",
       "      <td>0.907</td>\n",
       "      <td>0.960</td>\n",
       "      <td>0.541</td>\n",
       "    </tr>\n",
       "    <tr>\n",
       "      <th>burglary</th>\n",
       "      <td>0.818</td>\n",
       "      <td>0.895</td>\n",
       "      <td>0.951</td>\n",
       "      <td>0.963</td>\n",
       "      <td>0.973</td>\n",
       "      <td>0.126</td>\n",
       "      <td>0.964</td>\n",
       "      <td>1.000</td>\n",
       "      <td>0.949</td>\n",
       "      <td>0.980</td>\n",
       "      <td>0.635</td>\n",
       "    </tr>\n",
       "    <tr>\n",
       "      <th>larceny</th>\n",
       "      <td>0.893</td>\n",
       "      <td>0.869</td>\n",
       "      <td>0.866</td>\n",
       "      <td>0.895</td>\n",
       "      <td>0.913</td>\n",
       "      <td>0.177</td>\n",
       "      <td>0.907</td>\n",
       "      <td>0.949</td>\n",
       "      <td>1.000</td>\n",
       "      <td>0.915</td>\n",
       "      <td>0.609</td>\n",
       "    </tr>\n",
       "    <tr>\n",
       "      <th>vehicle_theft</th>\n",
       "      <td>0.814</td>\n",
       "      <td>0.930</td>\n",
       "      <td>0.964</td>\n",
       "      <td>0.984</td>\n",
       "      <td>0.977</td>\n",
       "      <td>0.101</td>\n",
       "      <td>0.960</td>\n",
       "      <td>0.980</td>\n",
       "      <td>0.915</td>\n",
       "      <td>1.000</td>\n",
       "      <td>0.622</td>\n",
       "    </tr>\n",
       "    <tr>\n",
       "      <th>arson3</th>\n",
       "      <td>0.557</td>\n",
       "      <td>0.552</td>\n",
       "      <td>0.476</td>\n",
       "      <td>0.537</td>\n",
       "      <td>0.557</td>\n",
       "      <td>0.098</td>\n",
       "      <td>0.541</td>\n",
       "      <td>0.635</td>\n",
       "      <td>0.609</td>\n",
       "      <td>0.622</td>\n",
       "      <td>1.000</td>\n",
       "    </tr>\n",
       "  </tbody>\n",
       "</table>\n",
       "</div>"
      ],
      "text/plain": [
       "               population  population_sq  murder  robbery  violent_crime  \\\n",
       "population          1.000          0.887   0.724    0.815          0.830   \n",
       "population_sq       0.887          1.000   0.873    0.936          0.929   \n",
       "murder              0.724          0.873   1.000    0.966          0.953   \n",
       "robbery             0.815          0.936   0.966    1.000          0.994   \n",
       "violent_crime       0.830          0.929   0.953    0.994          1.000   \n",
       "rape2               0.196          0.120   0.078    0.100          0.119   \n",
       "agg_assault         0.830          0.915   0.935    0.982          0.996   \n",
       "burglary            0.818          0.895   0.951    0.963          0.973   \n",
       "larceny             0.893          0.869   0.866    0.895          0.913   \n",
       "vehicle_theft       0.814          0.930   0.964    0.984          0.977   \n",
       "arson3              0.557          0.552   0.476    0.537          0.557   \n",
       "\n",
       "               rape2  agg_assault  burglary  larceny  vehicle_theft  arson3  \n",
       "population     0.196        0.830     0.818    0.893          0.814   0.557  \n",
       "population_sq  0.120        0.915     0.895    0.869          0.930   0.552  \n",
       "murder         0.078        0.935     0.951    0.866          0.964   0.476  \n",
       "robbery        0.100        0.982     0.963    0.895          0.984   0.537  \n",
       "violent_crime  0.119        0.996     0.973    0.913          0.977   0.557  \n",
       "rape2          1.000        0.124     0.126    0.177          0.101   0.098  \n",
       "agg_assault    0.124        1.000     0.964    0.907          0.960   0.541  \n",
       "burglary       0.126        0.964     1.000    0.949          0.980   0.635  \n",
       "larceny        0.177        0.907     0.949    1.000          0.915   0.609  \n",
       "vehicle_theft  0.101        0.960     0.980    0.915          1.000   0.622  \n",
       "arson3         0.098        0.541     0.635    0.609          0.622   1.000  "
      ]
     },
     "execution_count": 47,
     "metadata": {},
     "output_type": "execute_result"
    }
   ],
   "source": [
    "X3.corr()"
   ]
  },
  {
   "cell_type": "code",
   "execution_count": 39,
   "metadata": {},
   "outputs": [
    {
     "data": {
      "image/png": "[encoded data removed]",
      "text/plain": [
       "<matplotlib.figure.Figure at 0xf2c15d0>"
      ]
     },
     "metadata": {},
     "output_type": "display_data"
    }
   ],
   "source": [
    "plt.scatter(df.population, df.property_crime)\n",
    "plt.show()"
   ]
  },
  {
   "cell_type": "code",
   "execution_count": 41,
   "metadata": {},
   "outputs": [
    {
     "name": "stdout",
     "output_type": "stream",
     "text": [
      "                            OLS Regression Results                            \n",
      "==============================================================================\n",
      "Dep. Variable:         property_crime   R-squared:                       1.000\n",
      "Model:                            OLS   Adj. R-squared:                  1.000\n",
      "Method:                 Least Squares   F-statistic:                 2.488e+19\n",
      "Date:                Tue, 26 Jun 2018   Prob (F-statistic):               0.00\n",
      "Time:                        17:41:08   Log-Likelihood:                 4632.8\n",
      "No. Observations:                 375   AIC:                            -9240.\n",
      "Df Residuals:                     362   BIC:                            -9189.\n",
      "Df Model:                          12                                         \n",
      "Covariance Type:            nonrobust                                         \n",
      "==================================================================================\n",
      "                     coef    std err          t      P>|t|      [0.025      0.975]\n",
      "----------------------------------------------------------------------------------\n",
      "const           2.102e-07   9.85e-08      2.135      0.033    1.66e-08    4.04e-07\n",
      "property_crime     1.0000   1.52e-07   6.59e+06      0.000       1.000       1.000\n",
      "population      1.353e-11   7.36e-12      1.838      0.067   -9.48e-13     2.8e-11\n",
      "population_sq  -6.954e-17   4.68e-17     -1.487      0.138   -1.62e-16    2.24e-17\n",
      "murder          1.583e-13   9.51e-08   1.67e-06      1.000   -1.87e-07    1.87e-07\n",
      "robbery         6.173e-15   1.72e-08    3.6e-07      1.000   -3.37e-08    3.37e-08\n",
      "violent_crime   2.386e-14   1.29e-08   1.85e-06      1.000   -2.54e-08    2.54e-08\n",
      "rape2          -3.961e-14    1.2e-07   -3.3e-07      1.000   -2.36e-07    2.36e-07\n",
      "agg_assault    -1.268e-14    1.3e-08  -9.77e-07      1.000   -2.55e-08    2.55e-08\n",
      "burglary       -9.096e-14   1.52e-07  -5.99e-07      1.000   -2.99e-07    2.99e-07\n",
      "larceny        -1.092e-13   1.52e-07   -7.2e-07      1.000   -2.98e-07    2.98e-07\n",
      "vehicle_theft  -5.472e-14   1.52e-07  -3.59e-07      1.000      -3e-07       3e-07\n",
      "arson3          6.769e-14   1.47e-08    4.6e-06      1.000   -2.89e-08    2.89e-08\n",
      "==============================================================================\n",
      "Omnibus:                      649.300   Durbin-Watson:                   2.063\n",
      "Prob(Omnibus):                  0.000   Jarque-Bera (JB):           241867.585\n",
      "Skew:                          10.156   Prob(JB):                         0.00\n",
      "Kurtosis:                     125.748   Cond. No.                     2.76e+10\n",
      "==============================================================================\n",
      "\n",
      "Warnings:\n",
      "[1] Standard Errors assume that the covariance matrix of the errors is correctly specified.\n",
      "[2] The condition number is large, 2.76e+10. This might indicate that there are\n",
      "strong multicollinearity or other numerical problems.\n"
     ]
    }
   ],
   "source": [
    "X4 = smf.add_constant(X3)\n",
    "est3 = smf.OLS(Y, X4)\n",
    "est4 = est3.fit()\n",
    "print(est4.summary())"
   ]
  },
  {
   "cell_type": "code",
   "execution_count": 42,
   "metadata": {},
   "outputs": [
    {
     "data": {
      "text/html": [
       "<div>\n",
       "<style scoped>\n",
       "    .dataframe tbody tr th:only-of-type {\n",
       "        vertical-align: middle;\n",
       "    }\n",
       "\n",
       "    .dataframe tbody tr th {\n",
       "        vertical-align: top;\n",
       "    }\n",
       "\n",
       "    .dataframe thead th {\n",
       "        text-align: right;\n",
       "    }\n",
       "</style>\n",
       "<table border=\"1\" class=\"dataframe\">\n",
       "  <thead>\n",
       "    <tr style=\"text-align: right;\">\n",
       "      <th></th>\n",
       "      <th>population</th>\n",
       "      <th>population_sq</th>\n",
       "      <th>murder</th>\n",
       "      <th>robbery</th>\n",
       "      <th>violent_crime</th>\n",
       "      <th>rape2</th>\n",
       "      <th>agg_assault</th>\n",
       "      <th>burglary</th>\n",
       "      <th>larceny</th>\n",
       "      <th>vehicle_theft</th>\n",
       "      <th>arson3</th>\n",
       "    </tr>\n",
       "  </thead>\n",
       "  <tbody>\n",
       "    <tr>\n",
       "      <th>0</th>\n",
       "      <td>1851.000</td>\n",
       "      <td>3426201.000</td>\n",
       "      <td>0.000</td>\n",
       "      <td>0.000</td>\n",
       "      <td>0.000</td>\n",
       "      <td>0.000</td>\n",
       "      <td>0.000</td>\n",
       "      <td>1.000</td>\n",
       "      <td>10.000</td>\n",
       "      <td>0.000</td>\n",
       "      <td>0.000</td>\n",
       "    </tr>\n",
       "    <tr>\n",
       "      <th>1</th>\n",
       "      <td>2568.000</td>\n",
       "      <td>6594624.000</td>\n",
       "      <td>0.000</td>\n",
       "      <td>1.000</td>\n",
       "      <td>2.000</td>\n",
       "      <td>0.000</td>\n",
       "      <td>1.000</td>\n",
       "      <td>1.000</td>\n",
       "      <td>47.000</td>\n",
       "      <td>1.000</td>\n",
       "      <td>0.000</td>\n",
       "    </tr>\n",
       "    <tr>\n",
       "      <th>2</th>\n",
       "      <td>820.000</td>\n",
       "      <td>672400.000</td>\n",
       "      <td>0.000</td>\n",
       "      <td>0.000</td>\n",
       "      <td>0.000</td>\n",
       "      <td>1.000</td>\n",
       "      <td>0.000</td>\n",
       "      <td>0.000</td>\n",
       "      <td>1.000</td>\n",
       "      <td>0.000</td>\n",
       "      <td>0.000</td>\n",
       "    </tr>\n",
       "    <tr>\n",
       "      <th>3</th>\n",
       "      <td>2842.000</td>\n",
       "      <td>8076964.000</td>\n",
       "      <td>0.000</td>\n",
       "      <td>0.000</td>\n",
       "      <td>1.000</td>\n",
       "      <td>0.000</td>\n",
       "      <td>1.000</td>\n",
       "      <td>0.000</td>\n",
       "      <td>17.000</td>\n",
       "      <td>0.000</td>\n",
       "      <td>0.000</td>\n",
       "    </tr>\n",
       "    <tr>\n",
       "      <th>4</th>\n",
       "      <td>98595.000</td>\n",
       "      <td>9720974025.000</td>\n",
       "      <td>8.000</td>\n",
       "      <td>237.000</td>\n",
       "      <td>802.000</td>\n",
       "      <td>1.000</td>\n",
       "      <td>503.000</td>\n",
       "      <td>683.000</td>\n",
       "      <td>3083.000</td>\n",
       "      <td>122.000</td>\n",
       "      <td>12.000</td>\n",
       "    </tr>\n",
       "  </tbody>\n",
       "</table>\n",
       "</div>"
      ],
      "text/plain": [
       "   population  population_sq  murder  robbery  violent_crime  rape2  \\\n",
       "0    1851.000    3426201.000   0.000    0.000          0.000  0.000   \n",
       "1    2568.000    6594624.000   0.000    1.000          2.000  0.000   \n",
       "2     820.000     672400.000   0.000    0.000          0.000  1.000   \n",
       "3    2842.000    8076964.000   0.000    0.000          1.000  0.000   \n",
       "4   98595.000 9720974025.000   8.000  237.000        802.000  1.000   \n",
       "\n",
       "   agg_assault  burglary  larceny  vehicle_theft  arson3  \n",
       "0        0.000     1.000   10.000          0.000   0.000  \n",
       "1        1.000     1.000   47.000          1.000   0.000  \n",
       "2        0.000     0.000    1.000          0.000   0.000  \n",
       "3        1.000     0.000   17.000          0.000   0.000  \n",
       "4      503.000   683.000 3083.000        122.000  12.000  "
      ]
     },
     "execution_count": 42,
     "metadata": {},
     "output_type": "execute_result"
    }
   ],
   "source": [
    "X.head()"
   ]
  },
  {
   "cell_type": "code",
   "execution_count": 43,
   "metadata": {},
   "outputs": [
    {
     "data": {
      "image/png": "[encoded data removed]",
      "text/plain": [
       "<matplotlib.figure.Figure at 0x1355210>"
      ]
     },
     "metadata": {},
     "output_type": "display_data"
    }
   ],
   "source": [
    "# Extract predicted values.\n",
    "predicted = regr.predict(X).ravel()\n",
    "actual = df['property_crime']\n",
    "\n",
    "# Calculate the error, also called the residual.\n",
    "residual = actual - predicted\n",
    "\n",
    "plt.hist(residual)\n",
    "plt.title('Residual counts')\n",
    "plt.xlabel('Residual')\n",
    "plt.ylabel('Count')\n",
    "plt.show()"
   ]
  },
  {
   "cell_type": "code",
   "execution_count": 44,
   "metadata": {
    "scrolled": true
   },
   "outputs": [
    {
     "data": {
      "text/html": [
       "<div>\n",
       "<style scoped>\n",
       "    .dataframe tbody tr th:only-of-type {\n",
       "        vertical-align: middle;\n",
       "    }\n",
       "\n",
       "    .dataframe tbody tr th {\n",
       "        vertical-align: top;\n",
       "    }\n",
       "\n",
       "    .dataframe thead th {\n",
       "        text-align: right;\n",
       "    }\n",
       "</style>\n",
       "<table border=\"1\" class=\"dataframe\">\n",
       "  <thead>\n",
       "    <tr style=\"text-align: right;\">\n",
       "      <th></th>\n",
       "      <th>population</th>\n",
       "      <th>population_sq</th>\n",
       "      <th>murder</th>\n",
       "      <th>robbery</th>\n",
       "      <th>violent_crime</th>\n",
       "      <th>rape2</th>\n",
       "      <th>agg_assault</th>\n",
       "      <th>burglary</th>\n",
       "      <th>larceny</th>\n",
       "      <th>vehicle_theft</th>\n",
       "      <th>arson3</th>\n",
       "    </tr>\n",
       "  </thead>\n",
       "  <tbody>\n",
       "    <tr>\n",
       "      <th>population</th>\n",
       "      <td>1.000</td>\n",
       "      <td>0.887</td>\n",
       "      <td>0.724</td>\n",
       "      <td>0.815</td>\n",
       "      <td>0.830</td>\n",
       "      <td>0.196</td>\n",
       "      <td>0.830</td>\n",
       "      <td>0.818</td>\n",
       "      <td>0.893</td>\n",
       "      <td>0.814</td>\n",
       "      <td>0.557</td>\n",
       "    </tr>\n",
       "    <tr>\n",
       "      <th>population_sq</th>\n",
       "      <td>0.887</td>\n",
       "      <td>1.000</td>\n",
       "      <td>0.873</td>\n",
       "      <td>0.936</td>\n",
       "      <td>0.929</td>\n",
       "      <td>0.120</td>\n",
       "      <td>0.915</td>\n",
       "      <td>0.895</td>\n",
       "      <td>0.869</td>\n",
       "      <td>0.930</td>\n",
       "      <td>0.552</td>\n",
       "    </tr>\n",
       "    <tr>\n",
       "      <th>murder</th>\n",
       "      <td>0.724</td>\n",
       "      <td>0.873</td>\n",
       "      <td>1.000</td>\n",
       "      <td>0.966</td>\n",
       "      <td>0.953</td>\n",
       "      <td>0.078</td>\n",
       "      <td>0.935</td>\n",
       "      <td>0.951</td>\n",
       "      <td>0.866</td>\n",
       "      <td>0.964</td>\n",
       "      <td>0.476</td>\n",
       "    </tr>\n",
       "    <tr>\n",
       "      <th>robbery</th>\n",
       "      <td>0.815</td>\n",
       "      <td>0.936</td>\n",
       "      <td>0.966</td>\n",
       "      <td>1.000</td>\n",
       "      <td>0.994</td>\n",
       "      <td>0.100</td>\n",
       "      <td>0.982</td>\n",
       "      <td>0.963</td>\n",
       "      <td>0.895</td>\n",
       "      <td>0.984</td>\n",
       "      <td>0.537</td>\n",
       "    </tr>\n",
       "    <tr>\n",
       "      <th>violent_crime</th>\n",
       "      <td>0.830</td>\n",
       "      <td>0.929</td>\n",
       "      <td>0.953</td>\n",
       "      <td>0.994</td>\n",
       "      <td>1.000</td>\n",
       "      <td>0.119</td>\n",
       "      <td>0.996</td>\n",
       "      <td>0.973</td>\n",
       "      <td>0.913</td>\n",
       "      <td>0.977</td>\n",
       "      <td>0.557</td>\n",
       "    </tr>\n",
       "    <tr>\n",
       "      <th>rape2</th>\n",
       "      <td>0.196</td>\n",
       "      <td>0.120</td>\n",
       "      <td>0.078</td>\n",
       "      <td>0.100</td>\n",
       "      <td>0.119</td>\n",
       "      <td>1.000</td>\n",
       "      <td>0.124</td>\n",
       "      <td>0.126</td>\n",
       "      <td>0.177</td>\n",
       "      <td>0.101</td>\n",
       "      <td>0.098</td>\n",
       "    </tr>\n",
       "    <tr>\n",
       "      <th>agg_assault</th>\n",
       "      <td>0.830</td>\n",
       "      <td>0.915</td>\n",
       "      <td>0.935</td>\n",
       "      <td>0.982</td>\n",
       "      <td>0.996</td>\n",
       "      <td>0.124</td>\n",
       "      <td>1.000</td>\n",
       "      <td>0.964</td>\n",
       "      <td>0.907</td>\n",
       "      <td>0.960</td>\n",
       "      <td>0.541</td>\n",
       "    </tr>\n",
       "    <tr>\n",
       "      <th>burglary</th>\n",
       "      <td>0.818</td>\n",
       "      <td>0.895</td>\n",
       "      <td>0.951</td>\n",
       "      <td>0.963</td>\n",
       "      <td>0.973</td>\n",
       "      <td>0.126</td>\n",
       "      <td>0.964</td>\n",
       "      <td>1.000</td>\n",
       "      <td>0.949</td>\n",
       "      <td>0.980</td>\n",
       "      <td>0.635</td>\n",
       "    </tr>\n",
       "    <tr>\n",
       "      <th>larceny</th>\n",
       "      <td>0.893</td>\n",
       "      <td>0.869</td>\n",
       "      <td>0.866</td>\n",
       "      <td>0.895</td>\n",
       "      <td>0.913</td>\n",
       "      <td>0.177</td>\n",
       "      <td>0.907</td>\n",
       "      <td>0.949</td>\n",
       "      <td>1.000</td>\n",
       "      <td>0.915</td>\n",
       "      <td>0.609</td>\n",
       "    </tr>\n",
       "    <tr>\n",
       "      <th>vehicle_theft</th>\n",
       "      <td>0.814</td>\n",
       "      <td>0.930</td>\n",
       "      <td>0.964</td>\n",
       "      <td>0.984</td>\n",
       "      <td>0.977</td>\n",
       "      <td>0.101</td>\n",
       "      <td>0.960</td>\n",
       "      <td>0.980</td>\n",
       "      <td>0.915</td>\n",
       "      <td>1.000</td>\n",
       "      <td>0.622</td>\n",
       "    </tr>\n",
       "    <tr>\n",
       "      <th>arson3</th>\n",
       "      <td>0.557</td>\n",
       "      <td>0.552</td>\n",
       "      <td>0.476</td>\n",
       "      <td>0.537</td>\n",
       "      <td>0.557</td>\n",
       "      <td>0.098</td>\n",
       "      <td>0.541</td>\n",
       "      <td>0.635</td>\n",
       "      <td>0.609</td>\n",
       "      <td>0.622</td>\n",
       "      <td>1.000</td>\n",
       "    </tr>\n",
       "  </tbody>\n",
       "</table>\n",
       "</div>"
      ],
      "text/plain": [
       "               population  population_sq  murder  robbery  violent_crime  \\\n",
       "population          1.000          0.887   0.724    0.815          0.830   \n",
       "population_sq       0.887          1.000   0.873    0.936          0.929   \n",
       "murder              0.724          0.873   1.000    0.966          0.953   \n",
       "robbery             0.815          0.936   0.966    1.000          0.994   \n",
       "violent_crime       0.830          0.929   0.953    0.994          1.000   \n",
       "rape2               0.196          0.120   0.078    0.100          0.119   \n",
       "agg_assault         0.830          0.915   0.935    0.982          0.996   \n",
       "burglary            0.818          0.895   0.951    0.963          0.973   \n",
       "larceny             0.893          0.869   0.866    0.895          0.913   \n",
       "vehicle_theft       0.814          0.930   0.964    0.984          0.977   \n",
       "arson3              0.557          0.552   0.476    0.537          0.557   \n",
       "\n",
       "               rape2  agg_assault  burglary  larceny  vehicle_theft  arson3  \n",
       "population     0.196        0.830     0.818    0.893          0.814   0.557  \n",
       "population_sq  0.120        0.915     0.895    0.869          0.930   0.552  \n",
       "murder         0.078        0.935     0.951    0.866          0.964   0.476  \n",
       "robbery        0.100        0.982     0.963    0.895          0.984   0.537  \n",
       "violent_crime  0.119        0.996     0.973    0.913          0.977   0.557  \n",
       "rape2          1.000        0.124     0.126    0.177          0.101   0.098  \n",
       "agg_assault    0.124        1.000     0.964    0.907          0.960   0.541  \n",
       "burglary       0.126        0.964     1.000    0.949          0.980   0.635  \n",
       "larceny        0.177        0.907     0.949    1.000          0.915   0.609  \n",
       "vehicle_theft  0.101        0.960     0.980    0.915          1.000   0.622  \n",
       "arson3         0.098        0.541     0.635    0.609          0.622   1.000  "
      ]
     },
     "execution_count": 44,
     "metadata": {},
     "output_type": "execute_result"
    }
   ],
   "source": [
    "X.corr() "
   ]
  },
  {
   "cell_type": "code",
   "execution_count": 45,
   "metadata": {},
   "outputs": [
    {
     "name": "stdout",
     "output_type": "stream",
     "text": [
      "The percentage of total variance in the dataset explained by each component from Sklearn PCA.\n",
      " [1.00000000e+00 6.19144639e-12 3.81727560e-15 2.66885335e-16]\n"
     ]
    },
    {
     "data": {
      "image/png": "[encoded data removed]",
      "text/plain": [
       "<matplotlib.figure.Figure at 0xbe1b50>"
      ]
     },
     "metadata": {},
     "output_type": "display_data"
    }
   ],
   "source": [
    "sklearn_pca = PCA(n_components=4)\n",
    "Y_sklearn = sklearn_pca.fit_transform(X)\n",
    "\n",
    "print(\n",
    "    'The percentage of total variance in the dataset explained by each',\n",
    "    'component from Sklearn PCA.\\n',\n",
    "    sklearn_pca.explained_variance_ratio_\n",
    ")\n",
    "\n",
    "# Compare the sklearn solution to ours\n",
    "plt.plot(Y_sklearn[:, 0], Y, 'o')\n",
    "plt.title('Comparing solutions')\n",
    "plt.ylabel('Sklearn Component 1')\n",
    "plt.xlabel('By-hand Component 1')\n",
    "plt.show()"
   ]
  },
  {
   "cell_type": "code",
   "execution_count": 51,
   "metadata": {},
   "outputs": [],
   "source": [
    "X5 = df[['population','population_sq', 'murder', 'robbery', 'violent_crime']]"
   ]
  },
  {
   "cell_type": "code",
   "execution_count": 52,
   "metadata": {},
   "outputs": [
    {
     "data": {
      "text/html": [
       "<div>\n",
       "<style scoped>\n",
       "    .dataframe tbody tr th:only-of-type {\n",
       "        vertical-align: middle;\n",
       "    }\n",
       "\n",
       "    .dataframe tbody tr th {\n",
       "        vertical-align: top;\n",
       "    }\n",
       "\n",
       "    .dataframe thead th {\n",
       "        text-align: right;\n",
       "    }\n",
       "</style>\n",
       "<table border=\"1\" class=\"dataframe\">\n",
       "  <thead>\n",
       "    <tr style=\"text-align: right;\">\n",
       "      <th></th>\n",
       "      <th>population</th>\n",
       "      <th>population_sq</th>\n",
       "      <th>murder</th>\n",
       "      <th>robbery</th>\n",
       "      <th>violent_crime</th>\n",
       "    </tr>\n",
       "  </thead>\n",
       "  <tbody>\n",
       "    <tr>\n",
       "      <th>0</th>\n",
       "      <td>1851.000</td>\n",
       "      <td>3426201.000</td>\n",
       "      <td>0.000</td>\n",
       "      <td>0.000</td>\n",
       "      <td>0.000</td>\n",
       "    </tr>\n",
       "    <tr>\n",
       "      <th>1</th>\n",
       "      <td>2568.000</td>\n",
       "      <td>6594624.000</td>\n",
       "      <td>0.000</td>\n",
       "      <td>1.000</td>\n",
       "      <td>2.000</td>\n",
       "    </tr>\n",
       "    <tr>\n",
       "      <th>2</th>\n",
       "      <td>820.000</td>\n",
       "      <td>672400.000</td>\n",
       "      <td>0.000</td>\n",
       "      <td>0.000</td>\n",
       "      <td>0.000</td>\n",
       "    </tr>\n",
       "    <tr>\n",
       "      <th>3</th>\n",
       "      <td>2842.000</td>\n",
       "      <td>8076964.000</td>\n",
       "      <td>0.000</td>\n",
       "      <td>0.000</td>\n",
       "      <td>1.000</td>\n",
       "    </tr>\n",
       "    <tr>\n",
       "      <th>4</th>\n",
       "      <td>98595.000</td>\n",
       "      <td>9720974025.000</td>\n",
       "      <td>8.000</td>\n",
       "      <td>237.000</td>\n",
       "      <td>802.000</td>\n",
       "    </tr>\n",
       "  </tbody>\n",
       "</table>\n",
       "</div>"
      ],
      "text/plain": [
       "   population  population_sq  murder  robbery  violent_crime\n",
       "0    1851.000    3426201.000   0.000    0.000          0.000\n",
       "1    2568.000    6594624.000   0.000    1.000          2.000\n",
       "2     820.000     672400.000   0.000    0.000          0.000\n",
       "3    2842.000    8076964.000   0.000    0.000          1.000\n",
       "4   98595.000 9720974025.000   8.000  237.000        802.000"
      ]
     },
     "execution_count": 52,
     "metadata": {},
     "output_type": "execute_result"
    }
   ],
   "source": [
    "X5.head()"
   ]
  },
  {
   "cell_type": "code",
   "execution_count": 53,
   "metadata": {},
   "outputs": [
    {
     "name": "stdout",
     "output_type": "stream",
     "text": [
      "                            OLS Regression Results                            \n",
      "==============================================================================\n",
      "Dep. Variable:         property_crime   R-squared:                       0.945\n",
      "Model:                            OLS   Adj. R-squared:                  0.944\n",
      "Method:                 Least Squares   F-statistic:                     1270.\n",
      "Date:                Tue, 26 Jun 2018   Prob (F-statistic):          5.19e-230\n",
      "Time:                        17:58:40   Log-Likelihood:                -2558.2\n",
      "No. Observations:                 375   AIC:                             5128.\n",
      "Df Residuals:                     369   BIC:                             5152.\n",
      "Df Model:                           5                                         \n",
      "Covariance Type:            nonrobust                                         \n",
      "=================================================================================\n",
      "                    coef    std err          t      P>|t|      [0.025      0.975]\n",
      "---------------------------------------------------------------------------------\n",
      "const           -33.6179     15.464     -2.174      0.030     -64.026      -3.210\n",
      "population        0.0167      0.001     15.751      0.000       0.015       0.019\n",
      "population_sq -2.615e-08   8.92e-09     -2.930      0.004   -4.37e-08    -8.6e-09\n",
      "murder          155.5042     13.853     11.225      0.000     128.263     182.746\n",
      "robbery         -12.1901      1.697     -7.185      0.000     -15.526      -8.854\n",
      "violent_crime     5.1848      0.524      9.902      0.000       4.155       6.214\n",
      "==============================================================================\n",
      "Omnibus:                      158.252   Durbin-Watson:                   1.938\n",
      "Prob(Omnibus):                  0.000   Jarque-Bera (JB):             4964.367\n",
      "Skew:                           1.111   Prob(JB):                         0.00\n",
      "Kurtosis:                      20.686   Cond. No.                     6.79e+09\n",
      "==============================================================================\n",
      "\n",
      "Warnings:\n",
      "[1] Standard Errors assume that the covariance matrix of the errors is correctly specified.\n",
      "[2] The condition number is large, 6.79e+09. This might indicate that there are\n",
      "strong multicollinearity or other numerical problems.\n"
     ]
    }
   ],
   "source": [
    "X6 = smf.add_constant(X5)\n",
    "est5 = smf.OLS(Y, X6)\n",
    "est6 = est5.fit()\n",
    "print(est6.summary())"
   ]
  },
  {
   "cell_type": "code",
   "execution_count": 58,
   "metadata": {},
   "outputs": [
    {
     "name": "stdout",
     "output_type": "stream",
     "text": [
      "\n",
      "Coefficients: \n",
      " [ 1.67220689e-02 -2.61481466e-08  1.55504176e+02 -1.21901163e+01\n",
      "  5.18483773e+00]\n",
      "\n",
      "Intercept: \n",
      " -33.61790112702829\n",
      "\n",
      "R-squared: \n",
      " 0.9450853905214396\n"
     ]
    }
   ],
   "source": [
    "# Instantiate and fit our model.\n",
    "regr = linear_model.LinearRegression()\n",
    "Y = df['property_crime']\n",
    "X5 = df[['population','population_sq', 'murder', 'robbery', 'violent_crime']]\n",
    "regr.fit(X5, Y)\n",
    "\n",
    "# Inspect the results.\n",
    "print('\\nCoefficients: \\n', regr.coef_)\n",
    "print('\\nIntercept: \\n', regr.intercept_)\n",
    "print('\\nR-squared: \\n', regr.score(X5, Y))"
   ]
  },
  {
   "cell_type": "code",
   "execution_count": 59,
   "metadata": {},
   "outputs": [
    {
     "data": {
      "image/png": "[encoded data removed]",
      "text/plain": [
       "<matplotlib.figure.Figure at 0x12e0b70>"
      ]
     },
     "metadata": {},
     "output_type": "display_data"
    }
   ],
   "source": [
    "# Extract predicted values.\n",
    "predicted = regr.predict(X5).ravel()\n",
    "actual = df['property_crime']\n",
    "\n",
    "# Calculate the error, also called the residual.\n",
    "residual = actual - predicted\n",
    "\n",
    "plt.hist(residual)\n",
    "plt.title('Residual counts')\n",
    "plt.xlabel('Residual')\n",
    "plt.ylabel('Count')\n",
    "plt.show()"
   ]
  },
  {
   "cell_type": "code",
   "execution_count": 83,
   "metadata": {},
   "outputs": [
    {
     "name": "stdout",
     "output_type": "stream",
     "text": [
      "With 20% Holdout: -0.40096203166804667\n"
     ]
    },
    {
     "data": {
      "text/plain": [
       "<matplotlib.collections.PathCollection at 0x15deed0>"
      ]
     },
     "execution_count": 83,
     "metadata": {},
     "output_type": "execute_result"
    },
    {
     "data": {
      "image/png": "[encoded data removed]",
      "text/plain": [
       "<matplotlib.figure.Figure at 0x135fa70>"
      ]
     },
     "metadata": {},
     "output_type": "display_data"
    }
   ],
   "source": [
    "# Test your model with different holdout groups.\n",
    "\n",
    "from sklearn.model_selection import train_test_split\n",
    "# Use train_test_split to create the necessary training and test groups\n",
    "X_train, X_test, y_train, y_test = train_test_split(X6, Y, test_size=0.2, random_state=20)\n",
    "print('With 20% Holdout: ' + str(regr.fit(X_train, y_train).score(X_test, y_test)))\n",
    "# print('Testing on Sample: ' + str(regr.fit(X6, Y).score(X6, Y)))\n",
    "plt.scatter(y_test, regr.predict(X_test))"
   ]
  },
  {
   "cell_type": "code",
   "execution_count": 78,
   "metadata": {},
   "outputs": [
    {
     "data": {
      "text/plain": [
       "array([ 0.96127835,  0.95987546,  0.72284646,  0.63611432,  0.68898101,\n",
       "        0.36769855,  0.85654076,  0.9150777 ,  0.98658767, -2.29059502])"
      ]
     },
     "execution_count": 78,
     "metadata": {},
     "output_type": "execute_result"
    }
   ],
   "source": [
    "from sklearn.model_selection import cross_val_score\n",
    "cross_val_score(regr, X6, Y, cv=10)"
   ]
  },
  {
   "cell_type": "markdown",
   "metadata": {},
   "source": [
    "I chose the validation model which included: 'population','population_sq', 'murder', 'robbery', 'violent_crime', because it gave a high R-squared (94.5) and normally distributed residuals.  Unfortunately, it also overfit when I used a holdout training set.  The cross-validation evaluation gave the same results."
   ]
  }
 ],
 "metadata": {
  "kernelspec": {
   "display_name": "Python 3",
   "language": "python",
   "name": "python3"
  },
  "language_info": {
   "codemirror_mode": {
    "name": "ipython",
    "version": 3
   },
   "file_extension": ".py",
   "mimetype": "text/x-python",
   "name": "python",
   "nbconvert_exporter": "python",
   "pygments_lexer": "ipython3",
   "version": "3.6.4"
  }
 },
 "nbformat": 4,
 "nbformat_minor": 2
}
