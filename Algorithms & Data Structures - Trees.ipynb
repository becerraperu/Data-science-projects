{
 "cells": [
  {
   "cell_type": "markdown",
   "metadata": {},
   "source": [
    "# Algorithms & Data Structures - Trees"
   ]
  },
  {
   "cell_type": "markdown",
   "metadata": {},
   "source": [
    "## Goal: \n",
    "\n",
    "First, I'll implement a binary tree, filled with 15 pieces of random data. Then, I'll write a program to traverse the tree using a breadth first traversal. "
   ]
  },
  {
   "cell_type": "markdown",
   "metadata": {},
   "source": [
    "## Let's look at the algorithm first, using a queue.\n",
    "\n",
    "printBreadthFirst(tree)\n",
    "1. create an empty queue --> q\n",
    "2. temp_node = root (start from root)\n",
    "3. loop while temp_node is not NULL<br>\n",
    "    a. print temp_node-> data<br>\n",
    "    b. enqueue temp_node’s children (first left, then right child) to q<br>\n",
    "    c. dequeue a node from q and assign it’s value to temp_node"
   ]
  },
  {
   "cell_type": "code",
   "execution_count": 16,
   "metadata": {},
   "outputs": [],
   "source": [
    "# let's start with the node structure.\n",
    "class Node:\n",
    "    # we'll use this utility function to create a new node\n",
    "    def __init__(self ,key):\n",
    "        self.data = key\n",
    "        self.left = None\n",
    "        self.right = None\n",
    "\n",
    "# iterative method to print the height of the binary tree\n",
    "def printBreadthFirst(root):\n",
    "    # base case\n",
    "    if root is None:\n",
    "        return\n",
    "     \n",
    "    # create an empty queue for breadth first traversal\n",
    "    queue = []\n",
    " \n",
    "    # enqueue root and initialize height\n",
    "    queue.append(root)\n",
    " \n",
    "    while(len(queue) > 0):\n",
    "        # print front of queue and remove it from the queue\n",
    "        print (queue[0].data),\n",
    "        node = queue.pop(0)\n",
    " \n",
    "        # enqueue left child\n",
    "        if node.left is not None:\n",
    "            queue.append(node.left)\n",
    " \n",
    "        # enqueue right child\n",
    "        if node.right is not None:\n",
    "            queue.append(node.right)\n",
    "            "
   ]
  },
  {
   "cell_type": "code",
   "execution_count": 20,
   "metadata": {},
   "outputs": [
    {
     "name": "stdout",
     "output_type": "stream",
     "text": [
      "Breadth first traversal of binary tree: \n",
      "\n",
      "1\n",
      "2\n",
      "3\n",
      "4\n",
      "5\n",
      "6\n",
      "7\n",
      "8\n",
      "9\n",
      "10\n",
      "11\n",
      "12\n",
      "13\n",
      "14\n",
      "15\n"
     ]
    }
   ],
   "source": [
    "# Let's test the function\n",
    "\n",
    "root = Node(1)\n",
    "root.left = Node(2)\n",
    "root.right = Node(3)\n",
    "root.left.left = Node(4)\n",
    "root.left.right = Node(5)\n",
    "root.right.left = Node(6)\n",
    "root.right.right = Node(7)\n",
    "root.left.left.left = Node(8)\n",
    "root.left.left.right = Node(9)\n",
    "root.left.right.left = Node(10)\n",
    "root.left.right.right = Node(11)\n",
    "root.right.left.left = Node(12)\n",
    "root.right.left.right = Node(13)\n",
    "root.right.right.left = Node(14)\n",
    "root.right.right.right = Node(15)\n",
    "\n",
    "print ('Breadth first traversal of binary tree: ')\n",
    "print()\n",
    "printBreadthFirst(root)"
   ]
  },
  {
   "cell_type": "code",
   "execution_count": null,
   "metadata": {},
   "outputs": [],
   "source": []
  }
 ],
 "metadata": {
  "kernelspec": {
   "display_name": "Python 3",
   "language": "python",
   "name": "python3"
  },
  "language_info": {
   "codemirror_mode": {
    "name": "ipython",
    "version": 3
   },
   "file_extension": ".py",
   "mimetype": "text/x-python",
   "name": "python",
   "nbconvert_exporter": "python",
   "pygments_lexer": "ipython3",
   "version": "3.6.2"
  }
 },
 "nbformat": 4,
 "nbformat_minor": 2
}
