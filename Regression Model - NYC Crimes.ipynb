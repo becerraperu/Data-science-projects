{
 "cells": [
  {
   "cell_type": "markdown",
   "metadata": {},
   "source": [
    "Regression Model- NYC Crimes 2013"
   ]
  },
  {
   "cell_type": "code",
   "execution_count": 1,
   "metadata": {},
   "outputs": [],
   "source": [
    "import numpy as np\n",
    "import pandas as pd\n",
    "from pandas import DataFrame, read_csv\n",
    "import scipy\n",
    "import sklearn\n",
    "import matplotlib.pyplot as plt\n",
    "import seaborn as sns\n",
    "import math\n",
    "import statistics\n",
    "import warnings\n",
    "\n",
    "from IPython.display import display\n",
    "from matplotlib import pyplot as plt\n",
    "from sklearn import linear_model\n",
    "from sklearn.model_selection import train_test_split\n",
    "from sklearn import preprocessing\n",
    "from sklearn.preprocessing import MinMaxScaler\n",
    "import statsmodels.api as smf\n",
    "\n",
    "from statsmodels.sandbox.regression.predstd import wls_prediction_std\n",
    "\n",
    "from matplotlib.mlab import PCA as mlabPCA\n",
    "from sklearn.preprocessing import StandardScaler\n",
    "from sklearn.decomposition import PCA \n",
    "\n",
    "# Display preferences.\n",
    "%matplotlib inline\n",
    "pd.options.display.float_format = '{:.3f}'.format\n",
    "\n",
    "# Suppress annoying harmless error.\n",
    "warnings.filterwarnings(\n",
    "    action=\"ignore\",\n",
    "    module=\"scipy\",\n",
    "    message=\"^internal gelsd\"\n",
    ")"
   ]
  },
  {
   "cell_type": "code",
   "execution_count": 2,
   "metadata": {},
   "outputs": [],
   "source": [
    "df = pd.read_excel('nyc_offenses_2013.xls')"
   ]
  },
  {
   "cell_type": "code",
   "execution_count": 3,
   "metadata": {},
   "outputs": [
    {
     "name": "stdout",
     "output_type": "stream",
     "text": [
      "<class 'pandas.core.frame.DataFrame'>\n",
      "RangeIndex: 348 entries, 0 to 347\n",
      "Data columns (total 13 columns):\n",
      "City                                    348 non-null object\n",
      "Population                              348 non-null int64\n",
      "Violent\n",
      "crime                           348 non-null int64\n",
      "Murder and\n",
      "nonnegligent\n",
      "manslaughter    348 non-null int64\n",
      "Rape\n",
      "(revised\n",
      "definition)1              0 non-null float64\n",
      "Rape\n",
      "(legacy\n",
      "definition)2               348 non-null int64\n",
      "Robbery                                 348 non-null int64\n",
      "Aggravated\n",
      "assault                      348 non-null int64\n",
      "Property\n",
      "crime                          348 non-null int64\n",
      "Burglary                                348 non-null int64\n",
      "Larceny-\n",
      "theft                          348 non-null int64\n",
      "Motor\n",
      "vehicle\n",
      "theft                     348 non-null int64\n",
      "Arson3                                  187 non-null float64\n",
      "dtypes: float64(2), int64(10), object(1)\n",
      "memory usage: 34.0+ KB\n"
     ]
    }
   ],
   "source": [
    "df.info()"
   ]
  },
  {
   "cell_type": "code",
   "execution_count": 4,
   "metadata": {
    "scrolled": true
   },
   "outputs": [
    {
     "data": {
      "text/html": [
       "<div>\n",
       "<style scoped>\n",
       "    .dataframe tbody tr th:only-of-type {\n",
       "        vertical-align: middle;\n",
       "    }\n",
       "\n",
       "    .dataframe tbody tr th {\n",
       "        vertical-align: top;\n",
       "    }\n",
       "\n",
       "    .dataframe thead th {\n",
       "        text-align: right;\n",
       "    }\n",
       "</style>\n",
       "<table border=\"1\" class=\"dataframe\">\n",
       "  <thead>\n",
       "    <tr style=\"text-align: right;\">\n",
       "      <th></th>\n",
       "      <th>City</th>\n",
       "      <th>Population</th>\n",
       "      <th>Violent\n",
       "crime</th>\n",
       "      <th>Murder and\n",
       "nonnegligent\n",
       "manslaughter</th>\n",
       "      <th>Rape\n",
       "(revised\n",
       "definition)1</th>\n",
       "      <th>Rape\n",
       "(legacy\n",
       "definition)2</th>\n",
       "      <th>Robbery</th>\n",
       "      <th>Aggravated\n",
       "assault</th>\n",
       "      <th>Property\n",
       "crime</th>\n",
       "      <th>Burglary</th>\n",
       "      <th>Larceny-\n",
       "theft</th>\n",
       "      <th>Motor\n",
       "vehicle\n",
       "theft</th>\n",
       "      <th>Arson3</th>\n",
       "    </tr>\n",
       "  </thead>\n",
       "  <tbody>\n",
       "    <tr>\n",
       "      <th>0</th>\n",
       "      <td>Adams Village</td>\n",
       "      <td>1861</td>\n",
       "      <td>0</td>\n",
       "      <td>0</td>\n",
       "      <td>nan</td>\n",
       "      <td>0</td>\n",
       "      <td>0</td>\n",
       "      <td>0</td>\n",
       "      <td>12</td>\n",
       "      <td>2</td>\n",
       "      <td>10</td>\n",
       "      <td>0</td>\n",
       "      <td>0.000</td>\n",
       "    </tr>\n",
       "    <tr>\n",
       "      <th>1</th>\n",
       "      <td>Addison Town and Village</td>\n",
       "      <td>2577</td>\n",
       "      <td>3</td>\n",
       "      <td>0</td>\n",
       "      <td>nan</td>\n",
       "      <td>0</td>\n",
       "      <td>0</td>\n",
       "      <td>3</td>\n",
       "      <td>24</td>\n",
       "      <td>3</td>\n",
       "      <td>20</td>\n",
       "      <td>1</td>\n",
       "      <td>0.000</td>\n",
       "    </tr>\n",
       "    <tr>\n",
       "      <th>2</th>\n",
       "      <td>Akron Village</td>\n",
       "      <td>2846</td>\n",
       "      <td>3</td>\n",
       "      <td>0</td>\n",
       "      <td>nan</td>\n",
       "      <td>0</td>\n",
       "      <td>0</td>\n",
       "      <td>3</td>\n",
       "      <td>16</td>\n",
       "      <td>1</td>\n",
       "      <td>15</td>\n",
       "      <td>0</td>\n",
       "      <td>0.000</td>\n",
       "    </tr>\n",
       "    <tr>\n",
       "      <th>3</th>\n",
       "      <td>Albany</td>\n",
       "      <td>97956</td>\n",
       "      <td>791</td>\n",
       "      <td>8</td>\n",
       "      <td>nan</td>\n",
       "      <td>30</td>\n",
       "      <td>227</td>\n",
       "      <td>526</td>\n",
       "      <td>4090</td>\n",
       "      <td>705</td>\n",
       "      <td>3243</td>\n",
       "      <td>142</td>\n",
       "      <td>nan</td>\n",
       "    </tr>\n",
       "    <tr>\n",
       "      <th>4</th>\n",
       "      <td>Albion Village</td>\n",
       "      <td>6388</td>\n",
       "      <td>23</td>\n",
       "      <td>0</td>\n",
       "      <td>nan</td>\n",
       "      <td>3</td>\n",
       "      <td>4</td>\n",
       "      <td>16</td>\n",
       "      <td>223</td>\n",
       "      <td>53</td>\n",
       "      <td>165</td>\n",
       "      <td>5</td>\n",
       "      <td>nan</td>\n",
       "    </tr>\n",
       "  </tbody>\n",
       "</table>\n",
       "</div>"
      ],
      "text/plain": [
       "                       City  Population  Violent\\ncrime  \\\n",
       "0             Adams Village        1861               0   \n",
       "1  Addison Town and Village        2577               3   \n",
       "2             Akron Village        2846               3   \n",
       "3                    Albany       97956             791   \n",
       "4            Albion Village        6388              23   \n",
       "\n",
       "   Murder and\\nnonnegligent\\nmanslaughter  Rape\\n(revised\\ndefinition)1  \\\n",
       "0                                       0                           nan   \n",
       "1                                       0                           nan   \n",
       "2                                       0                           nan   \n",
       "3                                       8                           nan   \n",
       "4                                       0                           nan   \n",
       "\n",
       "   Rape\\n(legacy\\ndefinition)2  Robbery  Aggravated\\nassault  Property\\ncrime  \\\n",
       "0                            0        0                    0               12   \n",
       "1                            0        0                    3               24   \n",
       "2                            0        0                    3               16   \n",
       "3                           30      227                  526             4090   \n",
       "4                            3        4                   16              223   \n",
       "\n",
       "   Burglary  Larceny-\\ntheft  Motor\\nvehicle\\ntheft  Arson3  \n",
       "0         2               10                      0   0.000  \n",
       "1         3               20                      1   0.000  \n",
       "2         1               15                      0   0.000  \n",
       "3       705             3243                    142     nan  \n",
       "4        53              165                      5     nan  "
      ]
     },
     "execution_count": 4,
     "metadata": {},
     "output_type": "execute_result"
    }
   ],
   "source": [
    "df.head()"
   ]
  },
  {
   "cell_type": "code",
   "execution_count": 5,
   "metadata": {},
   "outputs": [
    {
     "data": {
      "text/plain": [
       "City                                        0\n",
       "Population                                  0\n",
       "Violent\\ncrime                              0\n",
       "Murder and\\nnonnegligent\\nmanslaughter      0\n",
       "Rape\\n(revised\\ndefinition)1              348\n",
       "Rape\\n(legacy\\ndefinition)2                 0\n",
       "Robbery                                     0\n",
       "Aggravated\\nassault                         0\n",
       "Property\\ncrime                             0\n",
       "Burglary                                    0\n",
       "Larceny-\\ntheft                             0\n",
       "Motor\\nvehicle\\ntheft                       0\n",
       "Arson3                                    161\n",
       "dtype: int64"
      ]
     },
     "execution_count": 5,
     "metadata": {},
     "output_type": "execute_result"
    }
   ],
   "source": [
    "df.isnull().sum()"
   ]
  },
  {
   "cell_type": "code",
   "execution_count": 6,
   "metadata": {},
   "outputs": [
    {
     "data": {
      "text/plain": [
       "Index(['City', 'Population', 'Violent\\ncrime',\n",
       "       'Murder and\\nnonnegligent\\nmanslaughter',\n",
       "       'Rape\\n(revised\\ndefinition)1', 'Rape\\n(legacy\\ndefinition)2',\n",
       "       'Robbery', 'Aggravated\\nassault', 'Property\\ncrime', 'Burglary',\n",
       "       'Larceny-\\ntheft', 'Motor\\nvehicle\\ntheft', 'Arson3'],\n",
       "      dtype='object')"
      ]
     },
     "execution_count": 6,
     "metadata": {},
     "output_type": "execute_result"
    }
   ],
   "source": [
    "df.columns"
   ]
  },
  {
   "cell_type": "code",
   "execution_count": 7,
   "metadata": {},
   "outputs": [],
   "source": [
    "df.rename(columns={'Murder and\\nnonnegligent\\nmanslaughter':'Murder'}, inplace=True)\n",
    "df.rename(columns={'Rape\\n(revised\\ndefinition)1':'rape1'}, inplace=True)\n",
    "df.rename(columns={'Rape\\n(legacy\\ndefinition)2':'rape2'}, inplace=True)\n",
    "df.rename(columns={'Aggravated\\nassault':'agg_assault'}, inplace=True)\n",
    "df.rename(columns={'Violent\\ncrime':'violent_crime'}, inplace=True)\n",
    "df.rename(columns={'Property\\ncrime':'property_crime'}, inplace=True)\n",
    "df.rename(columns={'Larceny-\\ntheft':'larceny'}, inplace=True)\n",
    "df.rename(columns={'Motor\\nvehicle\\ntheft':'vehicle_theft'}, inplace=True)"
   ]
  },
  {
   "cell_type": "code",
   "execution_count": 8,
   "metadata": {},
   "outputs": [],
   "source": [
    "# Convert all columns to lower case.\n",
    "\n",
    "df.columns = map(str.lower, df.columns)"
   ]
  },
  {
   "cell_type": "code",
   "execution_count": 9,
   "metadata": {},
   "outputs": [],
   "source": [
    "df.drop('rape1', axis=1, inplace=True)"
   ]
  },
  {
   "cell_type": "code",
   "execution_count": 10,
   "metadata": {},
   "outputs": [
    {
     "data": {
      "text/plain": [
       "count   187.000\n",
       "mean      1.872\n",
       "std      10.693\n",
       "min       0.000\n",
       "25%       0.000\n",
       "50%       0.000\n",
       "75%       1.000\n",
       "max     132.000\n",
       "Name: arson3, dtype: float64"
      ]
     },
     "execution_count": 10,
     "metadata": {},
     "output_type": "execute_result"
    }
   ],
   "source": [
    "df.arson3.describe()"
   ]
  },
  {
   "cell_type": "code",
   "execution_count": 11,
   "metadata": {},
   "outputs": [],
   "source": [
    "# Replace arson3 NaN with mean\n",
    "df.fillna(value=2, inplace=True)"
   ]
  },
  {
   "cell_type": "code",
   "execution_count": 12,
   "metadata": {},
   "outputs": [
    {
     "data": {
      "text/plain": [
       "Index(['city', 'population', 'violent_crime', 'murder', 'rape2', 'robbery',\n",
       "       'agg_assault', 'property_crime', 'burglary', 'larceny', 'vehicle_theft',\n",
       "       'arson3'],\n",
       "      dtype='object')"
      ]
     },
     "execution_count": 12,
     "metadata": {},
     "output_type": "execute_result"
    }
   ],
   "source": [
    "df.columns"
   ]
  },
  {
   "cell_type": "code",
   "execution_count": 13,
   "metadata": {},
   "outputs": [
    {
     "data": {
      "text/plain": [
       "city              0\n",
       "population        0\n",
       "violent_crime     0\n",
       "murder            0\n",
       "rape2             0\n",
       "robbery           0\n",
       "agg_assault       0\n",
       "property_crime    0\n",
       "burglary          0\n",
       "larceny           0\n",
       "vehicle_theft     0\n",
       "arson3            0\n",
       "dtype: int64"
      ]
     },
     "execution_count": 13,
     "metadata": {},
     "output_type": "execute_result"
    }
   ],
   "source": [
    "df.isnull().sum()"
   ]
  },
  {
   "cell_type": "code",
   "execution_count": 14,
   "metadata": {},
   "outputs": [],
   "source": [
    "df['population_sq'] = df['population']*df['population']"
   ]
  },
  {
   "cell_type": "code",
   "execution_count": 15,
   "metadata": {},
   "outputs": [],
   "source": [
    "# Initial instrucions were to make murder and robbery continuous variables into categorical.  Full model excludes this.\n",
    "\n",
    "# df.Murder[df.Murder>0] = 1\n",
    "# df.Robbery[df.Robbery>0] = 1"
   ]
  },
  {
   "cell_type": "code",
   "execution_count": 16,
   "metadata": {},
   "outputs": [
    {
     "data": {
      "text/plain": [
       "city               object\n",
       "population          int64\n",
       "violent_crime       int64\n",
       "murder              int64\n",
       "rape2               int64\n",
       "robbery             int64\n",
       "agg_assault         int64\n",
       "property_crime      int64\n",
       "burglary            int64\n",
       "larceny             int64\n",
       "vehicle_theft       int64\n",
       "arson3            float64\n",
       "population_sq       int64\n",
       "dtype: object"
      ]
     },
     "execution_count": 16,
     "metadata": {},
     "output_type": "execute_result"
    }
   ],
   "source": [
    "df.dtypes"
   ]
  },
  {
   "cell_type": "code",
   "execution_count": 17,
   "metadata": {},
   "outputs": [
    {
     "data": {
      "text/html": [
       "<div>\n",
       "<style scoped>\n",
       "    .dataframe tbody tr th:only-of-type {\n",
       "        vertical-align: middle;\n",
       "    }\n",
       "\n",
       "    .dataframe tbody tr th {\n",
       "        vertical-align: top;\n",
       "    }\n",
       "\n",
       "    .dataframe thead th {\n",
       "        text-align: right;\n",
       "    }\n",
       "</style>\n",
       "<table border=\"1\" class=\"dataframe\">\n",
       "  <thead>\n",
       "    <tr style=\"text-align: right;\">\n",
       "      <th></th>\n",
       "      <th>population</th>\n",
       "      <th>violent_crime</th>\n",
       "      <th>murder</th>\n",
       "      <th>rape2</th>\n",
       "      <th>robbery</th>\n",
       "      <th>agg_assault</th>\n",
       "      <th>property_crime</th>\n",
       "      <th>burglary</th>\n",
       "      <th>larceny</th>\n",
       "      <th>vehicle_theft</th>\n",
       "      <th>arson3</th>\n",
       "      <th>population_sq</th>\n",
       "    </tr>\n",
       "  </thead>\n",
       "  <tbody>\n",
       "    <tr>\n",
       "      <th>count</th>\n",
       "      <td>348.000</td>\n",
       "      <td>348.000</td>\n",
       "      <td>348.000</td>\n",
       "      <td>348.000</td>\n",
       "      <td>348.000</td>\n",
       "      <td>348.000</td>\n",
       "      <td>348.000</td>\n",
       "      <td>348.000</td>\n",
       "      <td>348.000</td>\n",
       "      <td>348.000</td>\n",
       "      <td>348.000</td>\n",
       "      <td>348.000</td>\n",
       "    </tr>\n",
       "    <tr>\n",
       "      <th>mean</th>\n",
       "      <td>40037.632</td>\n",
       "      <td>201.595</td>\n",
       "      <td>1.566</td>\n",
       "      <td>5.865</td>\n",
       "      <td>72.902</td>\n",
       "      <td>121.261</td>\n",
       "      <td>792.606</td>\n",
       "      <td>119.684</td>\n",
       "      <td>637.017</td>\n",
       "      <td>35.905</td>\n",
       "      <td>1.931</td>\n",
       "      <td>203554650960.236</td>\n",
       "    </tr>\n",
       "    <tr>\n",
       "      <th>std</th>\n",
       "      <td>450037.368</td>\n",
       "      <td>2815.269</td>\n",
       "      <td>18.304</td>\n",
       "      <td>60.425</td>\n",
       "      <td>1031.033</td>\n",
       "      <td>1706.132</td>\n",
       "      <td>7659.725</td>\n",
       "      <td>924.949</td>\n",
       "      <td>6346.054</td>\n",
       "      <td>403.424</td>\n",
       "      <td>7.829</td>\n",
       "      <td>3778875542708.129</td>\n",
       "    </tr>\n",
       "    <tr>\n",
       "      <th>min</th>\n",
       "      <td>526.000</td>\n",
       "      <td>0.000</td>\n",
       "      <td>0.000</td>\n",
       "      <td>0.000</td>\n",
       "      <td>0.000</td>\n",
       "      <td>0.000</td>\n",
       "      <td>0.000</td>\n",
       "      <td>0.000</td>\n",
       "      <td>0.000</td>\n",
       "      <td>0.000</td>\n",
       "      <td>0.000</td>\n",
       "      <td>276676.000</td>\n",
       "    </tr>\n",
       "    <tr>\n",
       "      <th>25%</th>\n",
       "      <td>3003.000</td>\n",
       "      <td>2.000</td>\n",
       "      <td>0.000</td>\n",
       "      <td>0.000</td>\n",
       "      <td>0.000</td>\n",
       "      <td>1.000</td>\n",
       "      <td>40.500</td>\n",
       "      <td>6.000</td>\n",
       "      <td>31.000</td>\n",
       "      <td>0.000</td>\n",
       "      <td>0.000</td>\n",
       "      <td>9018117.000</td>\n",
       "    </tr>\n",
       "    <tr>\n",
       "      <th>50%</th>\n",
       "      <td>7233.500</td>\n",
       "      <td>6.000</td>\n",
       "      <td>0.000</td>\n",
       "      <td>0.000</td>\n",
       "      <td>1.000</td>\n",
       "      <td>4.000</td>\n",
       "      <td>112.500</td>\n",
       "      <td>17.500</td>\n",
       "      <td>94.000</td>\n",
       "      <td>2.000</td>\n",
       "      <td>2.000</td>\n",
       "      <td>52325684.500</td>\n",
       "    </tr>\n",
       "    <tr>\n",
       "      <th>75%</th>\n",
       "      <td>18427.500</td>\n",
       "      <td>22.000</td>\n",
       "      <td>0.000</td>\n",
       "      <td>2.000</td>\n",
       "      <td>5.000</td>\n",
       "      <td>14.000</td>\n",
       "      <td>341.000</td>\n",
       "      <td>51.250</td>\n",
       "      <td>287.250</td>\n",
       "      <td>7.000</td>\n",
       "      <td>2.000</td>\n",
       "      <td>339753567.000</td>\n",
       "    </tr>\n",
       "    <tr>\n",
       "      <th>max</th>\n",
       "      <td>8396126.000</td>\n",
       "      <td>52384.000</td>\n",
       "      <td>335.000</td>\n",
       "      <td>1112.000</td>\n",
       "      <td>19170.000</td>\n",
       "      <td>31767.000</td>\n",
       "      <td>141971.000</td>\n",
       "      <td>16606.000</td>\n",
       "      <td>117931.000</td>\n",
       "      <td>7434.000</td>\n",
       "      <td>132.000</td>\n",
       "      <td>70494931807876.000</td>\n",
       "    </tr>\n",
       "  </tbody>\n",
       "</table>\n",
       "</div>"
      ],
      "text/plain": [
       "       population  violent_crime  murder    rape2   robbery  agg_assault  \\\n",
       "count     348.000        348.000 348.000  348.000   348.000      348.000   \n",
       "mean    40037.632        201.595   1.566    5.865    72.902      121.261   \n",
       "std    450037.368       2815.269  18.304   60.425  1031.033     1706.132   \n",
       "min       526.000          0.000   0.000    0.000     0.000        0.000   \n",
       "25%      3003.000          2.000   0.000    0.000     0.000        1.000   \n",
       "50%      7233.500          6.000   0.000    0.000     1.000        4.000   \n",
       "75%     18427.500         22.000   0.000    2.000     5.000       14.000   \n",
       "max   8396126.000      52384.000 335.000 1112.000 19170.000    31767.000   \n",
       "\n",
       "       property_crime  burglary    larceny  vehicle_theft  arson3  \\\n",
       "count         348.000   348.000    348.000        348.000 348.000   \n",
       "mean          792.606   119.684    637.017         35.905   1.931   \n",
       "std          7659.725   924.949   6346.054        403.424   7.829   \n",
       "min             0.000     0.000      0.000          0.000   0.000   \n",
       "25%            40.500     6.000     31.000          0.000   0.000   \n",
       "50%           112.500    17.500     94.000          2.000   2.000   \n",
       "75%           341.000    51.250    287.250          7.000   2.000   \n",
       "max        141971.000 16606.000 117931.000       7434.000 132.000   \n",
       "\n",
       "           population_sq  \n",
       "count            348.000  \n",
       "mean    203554650960.236  \n",
       "std    3778875542708.129  \n",
       "min           276676.000  \n",
       "25%          9018117.000  \n",
       "50%         52325684.500  \n",
       "75%        339753567.000  \n",
       "max   70494931807876.000  "
      ]
     },
     "execution_count": 17,
     "metadata": {},
     "output_type": "execute_result"
    }
   ],
   "source": [
    "df.describe()"
   ]
  },
  {
   "cell_type": "code",
   "execution_count": 18,
   "metadata": {},
   "outputs": [
    {
     "data": {
      "text/plain": [
       "count       348.000\n",
       "mean      40037.632\n",
       "std      450037.368\n",
       "min         526.000\n",
       "25%        3003.000\n",
       "50%        7233.500\n",
       "75%       18427.500\n",
       "max     8396126.000\n",
       "Name: population, dtype: float64"
      ]
     },
     "execution_count": 18,
     "metadata": {},
     "output_type": "execute_result"
    }
   ],
   "source": [
    "df.population.describe()"
   ]
  },
  {
   "cell_type": "code",
   "execution_count": 19,
   "metadata": {
    "scrolled": true
   },
   "outputs": [
    {
     "data": {
      "text/plain": [
       "Text(0,0.5,'population')"
      ]
     },
     "execution_count": 19,
     "metadata": {},
     "output_type": "execute_result"
    },
    {
     "data": {
      "image/png": "[encoded data removed]",
      "text/plain": [
       "<matplotlib.figure.Figure at 0xebf0310>"
      ]
     },
     "metadata": {},
     "output_type": "display_data"
    }
   ],
   "source": [
    "plt.scatter(x=df.index, y=\"population\", data=df)\n",
    "plt.xlabel('city')\n",
    "plt.ylabel('population')"
   ]
  },
  {
   "cell_type": "code",
   "execution_count": 20,
   "metadata": {},
   "outputs": [],
   "source": [
    "df = df[df.city != 'New York']"
   ]
  },
  {
   "cell_type": "code",
   "execution_count": 21,
   "metadata": {},
   "outputs": [
    {
     "data": {
      "text/plain": [
       "count      347.000\n",
       "mean     15956.686\n",
       "std      27080.219\n",
       "min        526.000\n",
       "25%       2997.000\n",
       "50%       7187.000\n",
       "75%      18160.500\n",
       "max     258789.000\n",
       "Name: population, dtype: float64"
      ]
     },
     "execution_count": 21,
     "metadata": {},
     "output_type": "execute_result"
    }
   ],
   "source": [
    "df.population.describe()"
   ]
  },
  {
   "cell_type": "code",
   "execution_count": 22,
   "metadata": {},
   "outputs": [
    {
     "data": {
      "text/plain": [
       "Text(0,0.5,'population')"
      ]
     },
     "execution_count": 22,
     "metadata": {},
     "output_type": "execute_result"
    },
    {
     "data": {
      "image/png": "[encoded data removed]",
      "text/plain": [
       "<matplotlib.figure.Figure at 0xeb60bb0>"
      ]
     },
     "metadata": {},
     "output_type": "display_data"
    }
   ],
   "source": [
    "plt.scatter(x=df.index, y=\"population\", data=df)\n",
    "plt.xlabel('city')\n",
    "plt.ylabel('population')"
   ]
  },
  {
   "cell_type": "code",
   "execution_count": 23,
   "metadata": {},
   "outputs": [
    {
     "data": {
      "text/html": [
       "<div>\n",
       "<style scoped>\n",
       "    .dataframe tbody tr th:only-of-type {\n",
       "        vertical-align: middle;\n",
       "    }\n",
       "\n",
       "    .dataframe tbody tr th {\n",
       "        vertical-align: top;\n",
       "    }\n",
       "\n",
       "    .dataframe thead th {\n",
       "        text-align: right;\n",
       "    }\n",
       "</style>\n",
       "<table border=\"1\" class=\"dataframe\">\n",
       "  <thead>\n",
       "    <tr style=\"text-align: right;\">\n",
       "      <th></th>\n",
       "      <th>city</th>\n",
       "      <th>population</th>\n",
       "      <th>violent_crime</th>\n",
       "      <th>murder</th>\n",
       "      <th>rape2</th>\n",
       "      <th>robbery</th>\n",
       "      <th>agg_assault</th>\n",
       "      <th>property_crime</th>\n",
       "      <th>burglary</th>\n",
       "      <th>larceny</th>\n",
       "      <th>vehicle_theft</th>\n",
       "      <th>arson3</th>\n",
       "      <th>population_sq</th>\n",
       "    </tr>\n",
       "  </thead>\n",
       "  <tbody>\n",
       "    <tr>\n",
       "      <th>0</th>\n",
       "      <td>Adams Village</td>\n",
       "      <td>1861</td>\n",
       "      <td>0</td>\n",
       "      <td>0</td>\n",
       "      <td>0</td>\n",
       "      <td>0</td>\n",
       "      <td>0</td>\n",
       "      <td>12</td>\n",
       "      <td>2</td>\n",
       "      <td>10</td>\n",
       "      <td>0</td>\n",
       "      <td>0.000</td>\n",
       "      <td>3463321</td>\n",
       "    </tr>\n",
       "    <tr>\n",
       "      <th>1</th>\n",
       "      <td>Addison Town and Village</td>\n",
       "      <td>2577</td>\n",
       "      <td>3</td>\n",
       "      <td>0</td>\n",
       "      <td>0</td>\n",
       "      <td>0</td>\n",
       "      <td>3</td>\n",
       "      <td>24</td>\n",
       "      <td>3</td>\n",
       "      <td>20</td>\n",
       "      <td>1</td>\n",
       "      <td>0.000</td>\n",
       "      <td>6640929</td>\n",
       "    </tr>\n",
       "    <tr>\n",
       "      <th>2</th>\n",
       "      <td>Akron Village</td>\n",
       "      <td>2846</td>\n",
       "      <td>3</td>\n",
       "      <td>0</td>\n",
       "      <td>0</td>\n",
       "      <td>0</td>\n",
       "      <td>3</td>\n",
       "      <td>16</td>\n",
       "      <td>1</td>\n",
       "      <td>15</td>\n",
       "      <td>0</td>\n",
       "      <td>0.000</td>\n",
       "      <td>8099716</td>\n",
       "    </tr>\n",
       "    <tr>\n",
       "      <th>3</th>\n",
       "      <td>Albany</td>\n",
       "      <td>97956</td>\n",
       "      <td>791</td>\n",
       "      <td>8</td>\n",
       "      <td>30</td>\n",
       "      <td>227</td>\n",
       "      <td>526</td>\n",
       "      <td>4090</td>\n",
       "      <td>705</td>\n",
       "      <td>3243</td>\n",
       "      <td>142</td>\n",
       "      <td>2.000</td>\n",
       "      <td>9595377936</td>\n",
       "    </tr>\n",
       "    <tr>\n",
       "      <th>4</th>\n",
       "      <td>Albion Village</td>\n",
       "      <td>6388</td>\n",
       "      <td>23</td>\n",
       "      <td>0</td>\n",
       "      <td>3</td>\n",
       "      <td>4</td>\n",
       "      <td>16</td>\n",
       "      <td>223</td>\n",
       "      <td>53</td>\n",
       "      <td>165</td>\n",
       "      <td>5</td>\n",
       "      <td>2.000</td>\n",
       "      <td>40806544</td>\n",
       "    </tr>\n",
       "  </tbody>\n",
       "</table>\n",
       "</div>"
      ],
      "text/plain": [
       "                       city  population  violent_crime  murder  rape2  \\\n",
       "0             Adams Village        1861              0       0      0   \n",
       "1  Addison Town and Village        2577              3       0      0   \n",
       "2             Akron Village        2846              3       0      0   \n",
       "3                    Albany       97956            791       8     30   \n",
       "4            Albion Village        6388             23       0      3   \n",
       "\n",
       "   robbery  agg_assault  property_crime  burglary  larceny  vehicle_theft  \\\n",
       "0        0            0              12         2       10              0   \n",
       "1        0            3              24         3       20              1   \n",
       "2        0            3              16         1       15              0   \n",
       "3      227          526            4090       705     3243            142   \n",
       "4        4           16             223        53      165              5   \n",
       "\n",
       "   arson3  population_sq  \n",
       "0   0.000        3463321  \n",
       "1   0.000        6640929  \n",
       "2   0.000        8099716  \n",
       "3   2.000     9595377936  \n",
       "4   2.000       40806544  "
      ]
     },
     "execution_count": 23,
     "metadata": {},
     "output_type": "execute_result"
    }
   ],
   "source": [
    "df.head()"
   ]
  },
  {
   "cell_type": "code",
   "execution_count": 24,
   "metadata": {},
   "outputs": [
    {
     "name": "stdout",
     "output_type": "stream",
     "text": [
      "<class 'pandas.core.frame.DataFrame'>\n",
      "Int64Index: 347 entries, 0 to 347\n",
      "Data columns (total 13 columns):\n",
      "city              347 non-null object\n",
      "population        347 non-null int64\n",
      "violent_crime     347 non-null int64\n",
      "murder            347 non-null int64\n",
      "rape2             347 non-null int64\n",
      "robbery           347 non-null int64\n",
      "agg_assault       347 non-null int64\n",
      "property_crime    347 non-null int64\n",
      "burglary          347 non-null int64\n",
      "larceny           347 non-null int64\n",
      "vehicle_theft     347 non-null int64\n",
      "arson3            347 non-null float64\n",
      "population_sq     347 non-null int64\n",
      "dtypes: float64(1), int64(11), object(1)\n",
      "memory usage: 36.6+ KB\n"
     ]
    }
   ],
   "source": [
    "df.info()"
   ]
  },
  {
   "cell_type": "code",
   "execution_count": 25,
   "metadata": {
    "scrolled": true
   },
   "outputs": [
    {
     "name": "stdout",
     "output_type": "stream",
     "text": [
      "\n",
      "Coefficients: \n",
      " [ 2.05519792e-02 -7.19468320e-08  1.02643383e+02  5.13001360e+00]\n",
      "\n",
      "Intercept: \n",
      " -25.039858198830643\n",
      "\n",
      "R-squared: \n",
      " 0.939283140822447\n"
     ]
    }
   ],
   "source": [
    "# Instantiate and fit our model.\n",
    "regr = linear_model.LinearRegression()\n",
    "Y = df['property_crime']\n",
    "X = df[['population', 'population_sq', 'murder', 'robbery']]\n",
    "regr.fit(X, Y)\n",
    "\n",
    "# Inspect the results.\n",
    "print('\\nCoefficients: \\n', regr.coef_)\n",
    "print('\\nIntercept: \\n', regr.intercept_)\n",
    "print('\\nR-squared: \\n', regr.score(X, Y))"
   ]
  },
  {
   "cell_type": "code",
   "execution_count": 26,
   "metadata": {},
   "outputs": [
    {
     "name": "stderr",
     "output_type": "stream",
     "text": [
      "c:\\users\\will\\appdata\\local\\programs\\python\\python36-32\\lib\\site-packages\\sklearn\\utils\\validation.py:475: DataConversionWarning: Data with input dtype int64 was converted to float64 by MinMaxScaler.\n",
      "  warnings.warn(msg, DataConversionWarning)\n"
     ]
    }
   ],
   "source": [
    "Y = df['property_crime'].values.reshape(-1, 1)\n",
    "\n",
    "min_max_scaler = preprocessing.MinMaxScaler()\n",
    "X_train, X_test, Y_train, Y_test = train_test_split(X, Y, test_size=.2)\n",
    "\n",
    "X_train_minmax = min_max_scaler.fit_transform(X_train)\n",
    "X_test_minmax = min_max_scaler.transform(X_test)\n",
    "Y_train_minmax = min_max_scaler.fit_transform(Y_train)\n",
    "Y_test_minmax = min_max_scaler.transform(Y_test)\n"
   ]
  },
  {
   "cell_type": "code",
   "execution_count": 27,
   "metadata": {},
   "outputs": [
    {
     "name": "stdout",
     "output_type": "stream",
     "text": [
      "Coefficients: \n",
      " [[ 0.44721463 -0.4727676   0.30173514  0.69853632]]\n",
      "Intercept: \n",
      " [-0.00157959]\n",
      "0.9455090702796195\n"
     ]
    }
   ],
   "source": [
    "# Scale data\n",
    "\n",
    "regr.fit(X_train_minmax, Y_train_minmax) \n",
    "\n",
    "print('Coefficients: \\n', regr.coef_)\n",
    "print('Intercept: \\n', regr.intercept_)\n",
    "print(regr.score(X_train_minmax, Y_train_minmax))"
   ]
  },
  {
   "cell_type": "code",
   "execution_count": 28,
   "metadata": {},
   "outputs": [
    {
     "name": "stdout",
     "output_type": "stream",
     "text": [
      "Coefficients: \n",
      " [[0.27079562 0.2205344  0.73509005 0.17283849]]\n",
      "Intercept: \n",
      " [0.00121973]\n",
      "0.810130050514219\n"
     ]
    }
   ],
   "source": [
    "# Scale data\n",
    "\n",
    "regr.fit(X_test_minmax, Y_test_minmax) \n",
    "\n",
    "print('Coefficients: \\n', regr.coef_)\n",
    "print('Intercept: \\n', regr.intercept_)\n",
    "print(regr.score(X_test_minmax, Y_test_minmax))"
   ]
  },
  {
   "cell_type": "code",
   "execution_count": 29,
   "metadata": {
    "scrolled": false
   },
   "outputs": [
    {
     "name": "stdout",
     "output_type": "stream",
     "text": [
      "Coefficients: \n",
      " [[ 2.16297262e-02 -8.81769528e-08  8.01909276e+01  6.60016430e+00]]\n",
      "Intercept: \n",
      " [-31.08349863]\n",
      "0.9455090702796194\n"
     ]
    }
   ],
   "source": [
    "regr.fit(X_train, Y_train)\n",
    "\n",
    "print('Coefficients: \\n', regr.coef_)\n",
    "print('Intercept: \\n', regr.intercept_)\n",
    "print(regr.score(X_train, Y_train))"
   ]
  },
  {
   "cell_type": "code",
   "execution_count": 30,
   "metadata": {},
   "outputs": [
    {
     "name": "stdout",
     "output_type": "stream",
     "text": [
      "Coefficients: \n",
      " [[1.30971457e-02 4.11323690e-08 1.95361911e+02 1.63307532e+00]]\n",
      "Intercept: \n",
      " [8.33518736]\n",
      "0.810130050514219\n"
     ]
    }
   ],
   "source": [
    "regr.fit(X_test, Y_test)\n",
    "\n",
    "print('Coefficients: \\n', regr.coef_)\n",
    "print('Intercept: \\n', regr.intercept_)\n",
    "print(regr.score(X_test, Y_test))"
   ]
  },
  {
   "cell_type": "code",
   "execution_count": 31,
   "metadata": {},
   "outputs": [
    {
     "name": "stdout",
     "output_type": "stream",
     "text": [
      "\n",
      "Coefficients: \n",
      " [ 3.33538163e-15 -1.44869104e-19 -5.04355970e-15 -1.86376442e-16\n",
      " -1.11034344e-14 -1.75087507e-14  1.17033404e-14  1.00000000e+00\n",
      "  1.00000000e+00  1.00000000e+00 -9.24667766e-17]\n",
      "\n",
      "Intercept: \n",
      " 8.986944521893747e-11\n",
      "\n",
      "R-squared: \n",
      " 1.0\n"
     ]
    }
   ],
   "source": [
    "# Instantiate and fit our model.\n",
    "regr = linear_model.LinearRegression()\n",
    "Y = df['property_crime']\n",
    "X = df[['population', 'population_sq', 'murder', 'robbery', 'violent_crime', 'rape2', 'agg_assault', \\\n",
    "        'burglary', 'larceny', 'vehicle_theft', 'arson3']]\n",
    "regr.fit(X, Y)\n",
    "\n",
    "# Inspect the results.\n",
    "print('\\nCoefficients: \\n', regr.coef_)\n",
    "print('\\nIntercept: \\n', regr.intercept_)\n",
    "print('\\nR-squared: \\n', regr.score(X, Y))"
   ]
  },
  {
   "cell_type": "code",
   "execution_count": 32,
   "metadata": {},
   "outputs": [],
   "source": [
    "X1 = df[['population', 'population_sq']]"
   ]
  },
  {
   "cell_type": "code",
   "execution_count": 33,
   "metadata": {},
   "outputs": [
    {
     "data": {
      "text/html": [
       "<div>\n",
       "<style scoped>\n",
       "    .dataframe tbody tr th:only-of-type {\n",
       "        vertical-align: middle;\n",
       "    }\n",
       "\n",
       "    .dataframe tbody tr th {\n",
       "        vertical-align: top;\n",
       "    }\n",
       "\n",
       "    .dataframe thead th {\n",
       "        text-align: right;\n",
       "    }\n",
       "</style>\n",
       "<table border=\"1\" class=\"dataframe\">\n",
       "  <thead>\n",
       "    <tr style=\"text-align: right;\">\n",
       "      <th></th>\n",
       "      <th>population</th>\n",
       "      <th>population_sq</th>\n",
       "    </tr>\n",
       "  </thead>\n",
       "  <tbody>\n",
       "    <tr>\n",
       "      <th>0</th>\n",
       "      <td>1861</td>\n",
       "      <td>3463321</td>\n",
       "    </tr>\n",
       "    <tr>\n",
       "      <th>1</th>\n",
       "      <td>2577</td>\n",
       "      <td>6640929</td>\n",
       "    </tr>\n",
       "    <tr>\n",
       "      <th>2</th>\n",
       "      <td>2846</td>\n",
       "      <td>8099716</td>\n",
       "    </tr>\n",
       "    <tr>\n",
       "      <th>3</th>\n",
       "      <td>97956</td>\n",
       "      <td>9595377936</td>\n",
       "    </tr>\n",
       "    <tr>\n",
       "      <th>4</th>\n",
       "      <td>6388</td>\n",
       "      <td>40806544</td>\n",
       "    </tr>\n",
       "  </tbody>\n",
       "</table>\n",
       "</div>"
      ],
      "text/plain": [
       "   population  population_sq\n",
       "0        1861        3463321\n",
       "1        2577        6640929\n",
       "2        2846        8099716\n",
       "3       97956     9595377936\n",
       "4        6388       40806544"
      ]
     },
     "execution_count": 33,
     "metadata": {},
     "output_type": "execute_result"
    }
   ],
   "source": [
    "X1.head()"
   ]
  },
  {
   "cell_type": "code",
   "execution_count": 34,
   "metadata": {},
   "outputs": [
    {
     "name": "stdout",
     "output_type": "stream",
     "text": [
      "                            OLS Regression Results                            \n",
      "==============================================================================\n",
      "Dep. Variable:         property_crime   R-squared:                       0.840\n",
      "Model:                            OLS   Adj. R-squared:                  0.839\n",
      "Method:                 Least Squares   F-statistic:                     900.8\n",
      "Date:                Wed, 27 Jun 2018   Prob (F-statistic):          1.82e-137\n",
      "Time:                        13:29:54   Log-Likelihood:                -2583.0\n",
      "No. Observations:                 347   AIC:                             5172.\n",
      "Df Residuals:                     344   BIC:                             5184.\n",
      "Df Model:                           2                                         \n",
      "Covariance Type:            nonrobust                                         \n",
      "=================================================================================\n",
      "                    coef    std err          t      P>|t|      [0.025      0.975]\n",
      "---------------------------------------------------------------------------------\n",
      "const            14.9016     30.445      0.489      0.625     -44.980      74.784\n",
      "population        0.0169      0.002      9.426      0.000       0.013       0.020\n",
      "population_sq  1.019e-07   9.61e-09     10.609      0.000     8.3e-08    1.21e-07\n",
      "==============================================================================\n",
      "Omnibus:                      385.028   Durbin-Watson:                   1.906\n",
      "Prob(Omnibus):                  0.000   Jarque-Bera (JB):            67899.803\n",
      "Skew:                          -4.316   Prob(JB):                         0.00\n",
      "Kurtosis:                      70.983   Cond. No.                     7.04e+09\n",
      "==============================================================================\n",
      "\n",
      "Warnings:\n",
      "[1] Standard Errors assume that the covariance matrix of the errors is correctly specified.\n",
      "[2] The condition number is large, 7.04e+09. This might indicate that there are\n",
      "strong multicollinearity or other numerical problems.\n"
     ]
    }
   ],
   "source": [
    "X2 = smf.add_constant(X1)\n",
    "est = smf.OLS(Y, X2)\n",
    "est2 = est.fit()\n",
    "print(est2.summary())"
   ]
  },
  {
   "cell_type": "code",
   "execution_count": 35,
   "metadata": {},
   "outputs": [],
   "source": [
    "X3 = df[['property_crime','population', 'population_sq', 'murder', 'robbery', 'violent_crime', 'rape2', 'agg_assault', \\\n",
    "        'burglary', 'larceny', 'vehicle_theft', 'arson3']]"
   ]
  },
  {
   "cell_type": "code",
   "execution_count": 36,
   "metadata": {},
   "outputs": [
    {
     "data": {
      "text/html": [
       "<div>\n",
       "<style scoped>\n",
       "    .dataframe tbody tr th:only-of-type {\n",
       "        vertical-align: middle;\n",
       "    }\n",
       "\n",
       "    .dataframe tbody tr th {\n",
       "        vertical-align: top;\n",
       "    }\n",
       "\n",
       "    .dataframe thead th {\n",
       "        text-align: right;\n",
       "    }\n",
       "</style>\n",
       "<table border=\"1\" class=\"dataframe\">\n",
       "  <thead>\n",
       "    <tr style=\"text-align: right;\">\n",
       "      <th></th>\n",
       "      <th>property_crime</th>\n",
       "      <th>population</th>\n",
       "      <th>population_sq</th>\n",
       "      <th>murder</th>\n",
       "      <th>robbery</th>\n",
       "      <th>violent_crime</th>\n",
       "      <th>rape2</th>\n",
       "      <th>agg_assault</th>\n",
       "      <th>burglary</th>\n",
       "      <th>larceny</th>\n",
       "      <th>vehicle_theft</th>\n",
       "      <th>arson3</th>\n",
       "    </tr>\n",
       "  </thead>\n",
       "  <tbody>\n",
       "    <tr>\n",
       "      <th>property_crime</th>\n",
       "      <td>1.000</td>\n",
       "      <td>0.887</td>\n",
       "      <td>0.893</td>\n",
       "      <td>0.917</td>\n",
       "      <td>0.933</td>\n",
       "      <td>0.944</td>\n",
       "      <td>0.949</td>\n",
       "      <td>0.942</td>\n",
       "      <td>0.977</td>\n",
       "      <td>0.995</td>\n",
       "      <td>0.949</td>\n",
       "      <td>0.630</td>\n",
       "    </tr>\n",
       "    <tr>\n",
       "      <th>population</th>\n",
       "      <td>0.887</td>\n",
       "      <td>1.000</td>\n",
       "      <td>0.889</td>\n",
       "      <td>0.756</td>\n",
       "      <td>0.816</td>\n",
       "      <td>0.829</td>\n",
       "      <td>0.797</td>\n",
       "      <td>0.835</td>\n",
       "      <td>0.820</td>\n",
       "      <td>0.901</td>\n",
       "      <td>0.828</td>\n",
       "      <td>0.518</td>\n",
       "    </tr>\n",
       "    <tr>\n",
       "      <th>population_sq</th>\n",
       "      <td>0.893</td>\n",
       "      <td>0.889</td>\n",
       "      <td>1.000</td>\n",
       "      <td>0.884</td>\n",
       "      <td>0.940</td>\n",
       "      <td>0.935</td>\n",
       "      <td>0.888</td>\n",
       "      <td>0.926</td>\n",
       "      <td>0.893</td>\n",
       "      <td>0.873</td>\n",
       "      <td>0.938</td>\n",
       "      <td>0.535</td>\n",
       "    </tr>\n",
       "    <tr>\n",
       "      <th>murder</th>\n",
       "      <td>0.917</td>\n",
       "      <td>0.756</td>\n",
       "      <td>0.884</td>\n",
       "      <td>1.000</td>\n",
       "      <td>0.963</td>\n",
       "      <td>0.955</td>\n",
       "      <td>0.946</td>\n",
       "      <td>0.938</td>\n",
       "      <td>0.956</td>\n",
       "      <td>0.881</td>\n",
       "      <td>0.959</td>\n",
       "      <td>0.677</td>\n",
       "    </tr>\n",
       "    <tr>\n",
       "      <th>robbery</th>\n",
       "      <td>0.933</td>\n",
       "      <td>0.816</td>\n",
       "      <td>0.940</td>\n",
       "      <td>0.963</td>\n",
       "      <td>1.000</td>\n",
       "      <td>0.994</td>\n",
       "      <td>0.949</td>\n",
       "      <td>0.983</td>\n",
       "      <td>0.964</td>\n",
       "      <td>0.898</td>\n",
       "      <td>0.989</td>\n",
       "      <td>0.586</td>\n",
       "    </tr>\n",
       "    <tr>\n",
       "      <th>violent_crime</th>\n",
       "      <td>0.944</td>\n",
       "      <td>0.829</td>\n",
       "      <td>0.935</td>\n",
       "      <td>0.955</td>\n",
       "      <td>0.994</td>\n",
       "      <td>1.000</td>\n",
       "      <td>0.962</td>\n",
       "      <td>0.997</td>\n",
       "      <td>0.971</td>\n",
       "      <td>0.913</td>\n",
       "      <td>0.987</td>\n",
       "      <td>0.573</td>\n",
       "    </tr>\n",
       "    <tr>\n",
       "      <th>rape2</th>\n",
       "      <td>0.949</td>\n",
       "      <td>0.797</td>\n",
       "      <td>0.888</td>\n",
       "      <td>0.946</td>\n",
       "      <td>0.949</td>\n",
       "      <td>0.962</td>\n",
       "      <td>1.000</td>\n",
       "      <td>0.958</td>\n",
       "      <td>0.974</td>\n",
       "      <td>0.921</td>\n",
       "      <td>0.960</td>\n",
       "      <td>0.577</td>\n",
       "    </tr>\n",
       "    <tr>\n",
       "      <th>agg_assault</th>\n",
       "      <td>0.942</td>\n",
       "      <td>0.835</td>\n",
       "      <td>0.926</td>\n",
       "      <td>0.938</td>\n",
       "      <td>0.983</td>\n",
       "      <td>0.997</td>\n",
       "      <td>0.958</td>\n",
       "      <td>1.000</td>\n",
       "      <td>0.964</td>\n",
       "      <td>0.913</td>\n",
       "      <td>0.977</td>\n",
       "      <td>0.553</td>\n",
       "    </tr>\n",
       "    <tr>\n",
       "      <th>burglary</th>\n",
       "      <td>0.977</td>\n",
       "      <td>0.820</td>\n",
       "      <td>0.893</td>\n",
       "      <td>0.956</td>\n",
       "      <td>0.964</td>\n",
       "      <td>0.971</td>\n",
       "      <td>0.974</td>\n",
       "      <td>0.964</td>\n",
       "      <td>1.000</td>\n",
       "      <td>0.950</td>\n",
       "      <td>0.976</td>\n",
       "      <td>0.640</td>\n",
       "    </tr>\n",
       "    <tr>\n",
       "      <th>larceny</th>\n",
       "      <td>0.995</td>\n",
       "      <td>0.901</td>\n",
       "      <td>0.873</td>\n",
       "      <td>0.881</td>\n",
       "      <td>0.898</td>\n",
       "      <td>0.913</td>\n",
       "      <td>0.921</td>\n",
       "      <td>0.913</td>\n",
       "      <td>0.950</td>\n",
       "      <td>1.000</td>\n",
       "      <td>0.916</td>\n",
       "      <td>0.620</td>\n",
       "    </tr>\n",
       "    <tr>\n",
       "      <th>vehicle_theft</th>\n",
       "      <td>0.949</td>\n",
       "      <td>0.828</td>\n",
       "      <td>0.938</td>\n",
       "      <td>0.959</td>\n",
       "      <td>0.989</td>\n",
       "      <td>0.987</td>\n",
       "      <td>0.960</td>\n",
       "      <td>0.977</td>\n",
       "      <td>0.976</td>\n",
       "      <td>0.916</td>\n",
       "      <td>1.000</td>\n",
       "      <td>0.581</td>\n",
       "    </tr>\n",
       "    <tr>\n",
       "      <th>arson3</th>\n",
       "      <td>0.630</td>\n",
       "      <td>0.518</td>\n",
       "      <td>0.535</td>\n",
       "      <td>0.677</td>\n",
       "      <td>0.586</td>\n",
       "      <td>0.573</td>\n",
       "      <td>0.577</td>\n",
       "      <td>0.553</td>\n",
       "      <td>0.640</td>\n",
       "      <td>0.620</td>\n",
       "      <td>0.581</td>\n",
       "      <td>1.000</td>\n",
       "    </tr>\n",
       "  </tbody>\n",
       "</table>\n",
       "</div>"
      ],
      "text/plain": [
       "                property_crime  population  population_sq  murder  robbery  \\\n",
       "property_crime           1.000       0.887          0.893   0.917    0.933   \n",
       "population               0.887       1.000          0.889   0.756    0.816   \n",
       "population_sq            0.893       0.889          1.000   0.884    0.940   \n",
       "murder                   0.917       0.756          0.884   1.000    0.963   \n",
       "robbery                  0.933       0.816          0.940   0.963    1.000   \n",
       "violent_crime            0.944       0.829          0.935   0.955    0.994   \n",
       "rape2                    0.949       0.797          0.888   0.946    0.949   \n",
       "agg_assault              0.942       0.835          0.926   0.938    0.983   \n",
       "burglary                 0.977       0.820          0.893   0.956    0.964   \n",
       "larceny                  0.995       0.901          0.873   0.881    0.898   \n",
       "vehicle_theft            0.949       0.828          0.938   0.959    0.989   \n",
       "arson3                   0.630       0.518          0.535   0.677    0.586   \n",
       "\n",
       "                violent_crime  rape2  agg_assault  burglary  larceny  \\\n",
       "property_crime          0.944  0.949        0.942     0.977    0.995   \n",
       "population              0.829  0.797        0.835     0.820    0.901   \n",
       "population_sq           0.935  0.888        0.926     0.893    0.873   \n",
       "murder                  0.955  0.946        0.938     0.956    0.881   \n",
       "robbery                 0.994  0.949        0.983     0.964    0.898   \n",
       "violent_crime           1.000  0.962        0.997     0.971    0.913   \n",
       "rape2                   0.962  1.000        0.958     0.974    0.921   \n",
       "agg_assault             0.997  0.958        1.000     0.964    0.913   \n",
       "burglary                0.971  0.974        0.964     1.000    0.950   \n",
       "larceny                 0.913  0.921        0.913     0.950    1.000   \n",
       "vehicle_theft           0.987  0.960        0.977     0.976    0.916   \n",
       "arson3                  0.573  0.577        0.553     0.640    0.620   \n",
       "\n",
       "                vehicle_theft  arson3  \n",
       "property_crime          0.949   0.630  \n",
       "population              0.828   0.518  \n",
       "population_sq           0.938   0.535  \n",
       "murder                  0.959   0.677  \n",
       "robbery                 0.989   0.586  \n",
       "violent_crime           0.987   0.573  \n",
       "rape2                   0.960   0.577  \n",
       "agg_assault             0.977   0.553  \n",
       "burglary                0.976   0.640  \n",
       "larceny                 0.916   0.620  \n",
       "vehicle_theft           1.000   0.581  \n",
       "arson3                  0.581   1.000  "
      ]
     },
     "execution_count": 36,
     "metadata": {},
     "output_type": "execute_result"
    }
   ],
   "source": [
    "X3.corr()"
   ]
  },
  {
   "cell_type": "code",
   "execution_count": 37,
   "metadata": {},
   "outputs": [
    {
     "data": {
      "image/png": "[encoded data removed]",
      "text/plain": [
       "<matplotlib.figure.Figure at 0xfc94d50>"
      ]
     },
     "metadata": {},
     "output_type": "display_data"
    }
   ],
   "source": [
    "plt.scatter(df.population, df.property_crime)\n",
    "plt.show()"
   ]
  },
  {
   "cell_type": "code",
   "execution_count": 38,
   "metadata": {},
   "outputs": [
    {
     "name": "stdout",
     "output_type": "stream",
     "text": [
      "                            OLS Regression Results                            \n",
      "==============================================================================\n",
      "Dep. Variable:         property_crime   R-squared:                       1.000\n",
      "Model:                            OLS   Adj. R-squared:                  1.000\n",
      "Method:                 Least Squares   F-statistic:                 1.167e+21\n",
      "Date:                Wed, 27 Jun 2018   Prob (F-statistic):               0.00\n",
      "Time:                        13:29:54   Log-Likelihood:                 4905.9\n",
      "No. Observations:                 347   AIC:                            -9790.\n",
      "Df Residuals:                     336   BIC:                            -9747.\n",
      "Df Model:                          10                                         \n",
      "Covariance Type:            nonrobust                                         \n",
      "==================================================================================\n",
      "                     coef    std err          t      P>|t|      [0.025      0.975]\n",
      "----------------------------------------------------------------------------------\n",
      "const            1.21e-07   1.33e-08      9.078      0.000    9.48e-08    1.47e-07\n",
      "property_crime     0.7500   2.97e-10   2.53e+09      0.000       0.750       0.750\n",
      "population     -8.961e-12   1.23e-12     -7.308      0.000   -1.14e-11   -6.55e-12\n",
      "population_sq   1.874e-17   8.24e-18      2.275      0.024    2.54e-18    3.49e-17\n",
      "murder          1.438e-13   1.15e-08   1.25e-05      1.000   -2.26e-08    2.26e-08\n",
      "robbery        -1.436e-14   3.01e-09  -4.77e-06      1.000   -5.92e-09    5.92e-09\n",
      "violent_crime   3.612e-14   2.47e-09   1.46e-05      1.000   -4.87e-09    4.87e-09\n",
      "rape2          -2.054e-14   5.45e-09  -3.77e-06      1.000   -1.07e-08    1.07e-08\n",
      "agg_assault    -3.769e-14   2.43e-09  -1.55e-05      1.000   -4.79e-09    4.79e-09\n",
      "burglary           0.2500   4.95e-10   5.05e+08      0.000       0.250       0.250\n",
      "larceny            0.2500   3.02e-10   8.28e+08      0.000       0.250       0.250\n",
      "vehicle_theft      0.2500   1.02e-09   2.45e+08      0.000       0.250       0.250\n",
      "arson3         -3.886e-16   2.03e-09  -1.91e-07      1.000      -4e-09       4e-09\n",
      "==============================================================================\n",
      "Omnibus:                      257.600   Durbin-Watson:                   1.946\n",
      "Prob(Omnibus):                  0.000   Jarque-Bera (JB):             2856.087\n",
      "Skew:                           3.128   Prob(JB):                         0.00\n",
      "Kurtosis:                      15.586   Cond. No.                     1.81e+23\n",
      "==============================================================================\n",
      "\n",
      "Warnings:\n",
      "[1] Standard Errors assume that the covariance matrix of the errors is correctly specified.\n",
      "[2] The smallest eigenvalue is 2.8e-25. This might indicate that there are\n",
      "strong multicollinearity problems or that the design matrix is singular.\n"
     ]
    }
   ],
   "source": [
    "X4 = smf.add_constant(X3)\n",
    "est3 = smf.OLS(Y, X4)\n",
    "est4 = est3.fit()\n",
    "print(est4.summary())"
   ]
  },
  {
   "cell_type": "code",
   "execution_count": 39,
   "metadata": {},
   "outputs": [
    {
     "data": {
      "text/html": [
       "<div>\n",
       "<style scoped>\n",
       "    .dataframe tbody tr th:only-of-type {\n",
       "        vertical-align: middle;\n",
       "    }\n",
       "\n",
       "    .dataframe tbody tr th {\n",
       "        vertical-align: top;\n",
       "    }\n",
       "\n",
       "    .dataframe thead th {\n",
       "        text-align: right;\n",
       "    }\n",
       "</style>\n",
       "<table border=\"1\" class=\"dataframe\">\n",
       "  <thead>\n",
       "    <tr style=\"text-align: right;\">\n",
       "      <th></th>\n",
       "      <th>population</th>\n",
       "      <th>population_sq</th>\n",
       "      <th>murder</th>\n",
       "      <th>robbery</th>\n",
       "      <th>violent_crime</th>\n",
       "      <th>rape2</th>\n",
       "      <th>agg_assault</th>\n",
       "      <th>burglary</th>\n",
       "      <th>larceny</th>\n",
       "      <th>vehicle_theft</th>\n",
       "      <th>arson3</th>\n",
       "    </tr>\n",
       "  </thead>\n",
       "  <tbody>\n",
       "    <tr>\n",
       "      <th>0</th>\n",
       "      <td>1861</td>\n",
       "      <td>3463321</td>\n",
       "      <td>0</td>\n",
       "      <td>0</td>\n",
       "      <td>0</td>\n",
       "      <td>0</td>\n",
       "      <td>0</td>\n",
       "      <td>2</td>\n",
       "      <td>10</td>\n",
       "      <td>0</td>\n",
       "      <td>0.000</td>\n",
       "    </tr>\n",
       "    <tr>\n",
       "      <th>1</th>\n",
       "      <td>2577</td>\n",
       "      <td>6640929</td>\n",
       "      <td>0</td>\n",
       "      <td>0</td>\n",
       "      <td>3</td>\n",
       "      <td>0</td>\n",
       "      <td>3</td>\n",
       "      <td>3</td>\n",
       "      <td>20</td>\n",
       "      <td>1</td>\n",
       "      <td>0.000</td>\n",
       "    </tr>\n",
       "    <tr>\n",
       "      <th>2</th>\n",
       "      <td>2846</td>\n",
       "      <td>8099716</td>\n",
       "      <td>0</td>\n",
       "      <td>0</td>\n",
       "      <td>3</td>\n",
       "      <td>0</td>\n",
       "      <td>3</td>\n",
       "      <td>1</td>\n",
       "      <td>15</td>\n",
       "      <td>0</td>\n",
       "      <td>0.000</td>\n",
       "    </tr>\n",
       "    <tr>\n",
       "      <th>3</th>\n",
       "      <td>97956</td>\n",
       "      <td>9595377936</td>\n",
       "      <td>8</td>\n",
       "      <td>227</td>\n",
       "      <td>791</td>\n",
       "      <td>30</td>\n",
       "      <td>526</td>\n",
       "      <td>705</td>\n",
       "      <td>3243</td>\n",
       "      <td>142</td>\n",
       "      <td>2.000</td>\n",
       "    </tr>\n",
       "    <tr>\n",
       "      <th>4</th>\n",
       "      <td>6388</td>\n",
       "      <td>40806544</td>\n",
       "      <td>0</td>\n",
       "      <td>4</td>\n",
       "      <td>23</td>\n",
       "      <td>3</td>\n",
       "      <td>16</td>\n",
       "      <td>53</td>\n",
       "      <td>165</td>\n",
       "      <td>5</td>\n",
       "      <td>2.000</td>\n",
       "    </tr>\n",
       "  </tbody>\n",
       "</table>\n",
       "</div>"
      ],
      "text/plain": [
       "   population  population_sq  murder  robbery  violent_crime  rape2  \\\n",
       "0        1861        3463321       0        0              0      0   \n",
       "1        2577        6640929       0        0              3      0   \n",
       "2        2846        8099716       0        0              3      0   \n",
       "3       97956     9595377936       8      227            791     30   \n",
       "4        6388       40806544       0        4             23      3   \n",
       "\n",
       "   agg_assault  burglary  larceny  vehicle_theft  arson3  \n",
       "0            0         2       10              0   0.000  \n",
       "1            3         3       20              1   0.000  \n",
       "2            3         1       15              0   0.000  \n",
       "3          526       705     3243            142   2.000  \n",
       "4           16        53      165              5   2.000  "
      ]
     },
     "execution_count": 39,
     "metadata": {},
     "output_type": "execute_result"
    }
   ],
   "source": [
    "X.head()"
   ]
  },
  {
   "cell_type": "code",
   "execution_count": 40,
   "metadata": {},
   "outputs": [
    {
     "data": {
      "image/png": "[encoded data removed]",
      "text/plain": [
       "<matplotlib.figure.Figure at 0xebea7f0>"
      ]
     },
     "metadata": {},
     "output_type": "display_data"
    }
   ],
   "source": [
    "# Extract predicted values.\n",
    "predicted = regr.predict(X).ravel()\n",
    "actual = df['property_crime']\n",
    "\n",
    "# Calculate the error, also called the residual.\n",
    "residual = actual - predicted\n",
    "\n",
    "plt.hist(residual)\n",
    "plt.title('Residual counts')\n",
    "plt.xlabel('Residual')\n",
    "plt.ylabel('Count')\n",
    "plt.show()"
   ]
  },
  {
   "cell_type": "code",
   "execution_count": 41,
   "metadata": {
    "scrolled": true
   },
   "outputs": [
    {
     "data": {
      "text/html": [
       "<div>\n",
       "<style scoped>\n",
       "    .dataframe tbody tr th:only-of-type {\n",
       "        vertical-align: middle;\n",
       "    }\n",
       "\n",
       "    .dataframe tbody tr th {\n",
       "        vertical-align: top;\n",
       "    }\n",
       "\n",
       "    .dataframe thead th {\n",
       "        text-align: right;\n",
       "    }\n",
       "</style>\n",
       "<table border=\"1\" class=\"dataframe\">\n",
       "  <thead>\n",
       "    <tr style=\"text-align: right;\">\n",
       "      <th></th>\n",
       "      <th>population</th>\n",
       "      <th>population_sq</th>\n",
       "      <th>murder</th>\n",
       "      <th>robbery</th>\n",
       "      <th>violent_crime</th>\n",
       "      <th>rape2</th>\n",
       "      <th>agg_assault</th>\n",
       "      <th>burglary</th>\n",
       "      <th>larceny</th>\n",
       "      <th>vehicle_theft</th>\n",
       "      <th>arson3</th>\n",
       "    </tr>\n",
       "  </thead>\n",
       "  <tbody>\n",
       "    <tr>\n",
       "      <th>population</th>\n",
       "      <td>1.000</td>\n",
       "      <td>0.889</td>\n",
       "      <td>0.756</td>\n",
       "      <td>0.816</td>\n",
       "      <td>0.829</td>\n",
       "      <td>0.797</td>\n",
       "      <td>0.835</td>\n",
       "      <td>0.820</td>\n",
       "      <td>0.901</td>\n",
       "      <td>0.828</td>\n",
       "      <td>0.518</td>\n",
       "    </tr>\n",
       "    <tr>\n",
       "      <th>population_sq</th>\n",
       "      <td>0.889</td>\n",
       "      <td>1.000</td>\n",
       "      <td>0.884</td>\n",
       "      <td>0.940</td>\n",
       "      <td>0.935</td>\n",
       "      <td>0.888</td>\n",
       "      <td>0.926</td>\n",
       "      <td>0.893</td>\n",
       "      <td>0.873</td>\n",
       "      <td>0.938</td>\n",
       "      <td>0.535</td>\n",
       "    </tr>\n",
       "    <tr>\n",
       "      <th>murder</th>\n",
       "      <td>0.756</td>\n",
       "      <td>0.884</td>\n",
       "      <td>1.000</td>\n",
       "      <td>0.963</td>\n",
       "      <td>0.955</td>\n",
       "      <td>0.946</td>\n",
       "      <td>0.938</td>\n",
       "      <td>0.956</td>\n",
       "      <td>0.881</td>\n",
       "      <td>0.959</td>\n",
       "      <td>0.677</td>\n",
       "    </tr>\n",
       "    <tr>\n",
       "      <th>robbery</th>\n",
       "      <td>0.816</td>\n",
       "      <td>0.940</td>\n",
       "      <td>0.963</td>\n",
       "      <td>1.000</td>\n",
       "      <td>0.994</td>\n",
       "      <td>0.949</td>\n",
       "      <td>0.983</td>\n",
       "      <td>0.964</td>\n",
       "      <td>0.898</td>\n",
       "      <td>0.989</td>\n",
       "      <td>0.586</td>\n",
       "    </tr>\n",
       "    <tr>\n",
       "      <th>violent_crime</th>\n",
       "      <td>0.829</td>\n",
       "      <td>0.935</td>\n",
       "      <td>0.955</td>\n",
       "      <td>0.994</td>\n",
       "      <td>1.000</td>\n",
       "      <td>0.962</td>\n",
       "      <td>0.997</td>\n",
       "      <td>0.971</td>\n",
       "      <td>0.913</td>\n",
       "      <td>0.987</td>\n",
       "      <td>0.573</td>\n",
       "    </tr>\n",
       "    <tr>\n",
       "      <th>rape2</th>\n",
       "      <td>0.797</td>\n",
       "      <td>0.888</td>\n",
       "      <td>0.946</td>\n",
       "      <td>0.949</td>\n",
       "      <td>0.962</td>\n",
       "      <td>1.000</td>\n",
       "      <td>0.958</td>\n",
       "      <td>0.974</td>\n",
       "      <td>0.921</td>\n",
       "      <td>0.960</td>\n",
       "      <td>0.577</td>\n",
       "    </tr>\n",
       "    <tr>\n",
       "      <th>agg_assault</th>\n",
       "      <td>0.835</td>\n",
       "      <td>0.926</td>\n",
       "      <td>0.938</td>\n",
       "      <td>0.983</td>\n",
       "      <td>0.997</td>\n",
       "      <td>0.958</td>\n",
       "      <td>1.000</td>\n",
       "      <td>0.964</td>\n",
       "      <td>0.913</td>\n",
       "      <td>0.977</td>\n",
       "      <td>0.553</td>\n",
       "    </tr>\n",
       "    <tr>\n",
       "      <th>burglary</th>\n",
       "      <td>0.820</td>\n",
       "      <td>0.893</td>\n",
       "      <td>0.956</td>\n",
       "      <td>0.964</td>\n",
       "      <td>0.971</td>\n",
       "      <td>0.974</td>\n",
       "      <td>0.964</td>\n",
       "      <td>1.000</td>\n",
       "      <td>0.950</td>\n",
       "      <td>0.976</td>\n",
       "      <td>0.640</td>\n",
       "    </tr>\n",
       "    <tr>\n",
       "      <th>larceny</th>\n",
       "      <td>0.901</td>\n",
       "      <td>0.873</td>\n",
       "      <td>0.881</td>\n",
       "      <td>0.898</td>\n",
       "      <td>0.913</td>\n",
       "      <td>0.921</td>\n",
       "      <td>0.913</td>\n",
       "      <td>0.950</td>\n",
       "      <td>1.000</td>\n",
       "      <td>0.916</td>\n",
       "      <td>0.620</td>\n",
       "    </tr>\n",
       "    <tr>\n",
       "      <th>vehicle_theft</th>\n",
       "      <td>0.828</td>\n",
       "      <td>0.938</td>\n",
       "      <td>0.959</td>\n",
       "      <td>0.989</td>\n",
       "      <td>0.987</td>\n",
       "      <td>0.960</td>\n",
       "      <td>0.977</td>\n",
       "      <td>0.976</td>\n",
       "      <td>0.916</td>\n",
       "      <td>1.000</td>\n",
       "      <td>0.581</td>\n",
       "    </tr>\n",
       "    <tr>\n",
       "      <th>arson3</th>\n",
       "      <td>0.518</td>\n",
       "      <td>0.535</td>\n",
       "      <td>0.677</td>\n",
       "      <td>0.586</td>\n",
       "      <td>0.573</td>\n",
       "      <td>0.577</td>\n",
       "      <td>0.553</td>\n",
       "      <td>0.640</td>\n",
       "      <td>0.620</td>\n",
       "      <td>0.581</td>\n",
       "      <td>1.000</td>\n",
       "    </tr>\n",
       "  </tbody>\n",
       "</table>\n",
       "</div>"
      ],
      "text/plain": [
       "               population  population_sq  murder  robbery  violent_crime  \\\n",
       "population          1.000          0.889   0.756    0.816          0.829   \n",
       "population_sq       0.889          1.000   0.884    0.940          0.935   \n",
       "murder              0.756          0.884   1.000    0.963          0.955   \n",
       "robbery             0.816          0.940   0.963    1.000          0.994   \n",
       "violent_crime       0.829          0.935   0.955    0.994          1.000   \n",
       "rape2               0.797          0.888   0.946    0.949          0.962   \n",
       "agg_assault         0.835          0.926   0.938    0.983          0.997   \n",
       "burglary            0.820          0.893   0.956    0.964          0.971   \n",
       "larceny             0.901          0.873   0.881    0.898          0.913   \n",
       "vehicle_theft       0.828          0.938   0.959    0.989          0.987   \n",
       "arson3              0.518          0.535   0.677    0.586          0.573   \n",
       "\n",
       "               rape2  agg_assault  burglary  larceny  vehicle_theft  arson3  \n",
       "population     0.797        0.835     0.820    0.901          0.828   0.518  \n",
       "population_sq  0.888        0.926     0.893    0.873          0.938   0.535  \n",
       "murder         0.946        0.938     0.956    0.881          0.959   0.677  \n",
       "robbery        0.949        0.983     0.964    0.898          0.989   0.586  \n",
       "violent_crime  0.962        0.997     0.971    0.913          0.987   0.573  \n",
       "rape2          1.000        0.958     0.974    0.921          0.960   0.577  \n",
       "agg_assault    0.958        1.000     0.964    0.913          0.977   0.553  \n",
       "burglary       0.974        0.964     1.000    0.950          0.976   0.640  \n",
       "larceny        0.921        0.913     0.950    1.000          0.916   0.620  \n",
       "vehicle_theft  0.960        0.977     0.976    0.916          1.000   0.581  \n",
       "arson3         0.577        0.553     0.640    0.620          0.581   1.000  "
      ]
     },
     "execution_count": 41,
     "metadata": {},
     "output_type": "execute_result"
    }
   ],
   "source": [
    "X.corr() "
   ]
  },
  {
   "cell_type": "code",
   "execution_count": 42,
   "metadata": {},
   "outputs": [
    {
     "name": "stdout",
     "output_type": "stream",
     "text": [
      "The percentage of total variance in the dataset explained by each component from Sklearn PCA.\n",
      " [1.00000000e+00 6.01122781e-12 3.89798907e-15 2.73673680e-16]\n"
     ]
    },
    {
     "data": {
      "image/png": "[encoded data removed]",
      "text/plain": [
       "<matplotlib.figure.Figure at 0xebea990>"
      ]
     },
     "metadata": {},
     "output_type": "display_data"
    }
   ],
   "source": [
    "sklearn_pca = PCA(n_components=4)\n",
    "Y_sklearn = sklearn_pca.fit_transform(X)\n",
    "\n",
    "print(\n",
    "    'The percentage of total variance in the dataset explained by each',\n",
    "    'component from Sklearn PCA.\\n',\n",
    "    sklearn_pca.explained_variance_ratio_\n",
    ")\n",
    "\n",
    "# Compare the sklearn solution to ours\n",
    "plt.plot(Y_sklearn[:, 0], Y, 'o')\n",
    "plt.title('Comparing solutions')\n",
    "plt.ylabel('Sklearn Component 1')\n",
    "plt.xlabel('By-hand Component 1')\n",
    "plt.show()"
   ]
  },
  {
   "cell_type": "code",
   "execution_count": 43,
   "metadata": {},
   "outputs": [],
   "source": [
    "X5 = df[['population','population_sq', 'murder', 'robbery', 'violent_crime']]"
   ]
  },
  {
   "cell_type": "code",
   "execution_count": 44,
   "metadata": {},
   "outputs": [
    {
     "data": {
      "text/html": [
       "<div>\n",
       "<style scoped>\n",
       "    .dataframe tbody tr th:only-of-type {\n",
       "        vertical-align: middle;\n",
       "    }\n",
       "\n",
       "    .dataframe tbody tr th {\n",
       "        vertical-align: top;\n",
       "    }\n",
       "\n",
       "    .dataframe thead th {\n",
       "        text-align: right;\n",
       "    }\n",
       "</style>\n",
       "<table border=\"1\" class=\"dataframe\">\n",
       "  <thead>\n",
       "    <tr style=\"text-align: right;\">\n",
       "      <th></th>\n",
       "      <th>population</th>\n",
       "      <th>population_sq</th>\n",
       "      <th>murder</th>\n",
       "      <th>robbery</th>\n",
       "      <th>violent_crime</th>\n",
       "    </tr>\n",
       "  </thead>\n",
       "  <tbody>\n",
       "    <tr>\n",
       "      <th>0</th>\n",
       "      <td>1861</td>\n",
       "      <td>3463321</td>\n",
       "      <td>0</td>\n",
       "      <td>0</td>\n",
       "      <td>0</td>\n",
       "    </tr>\n",
       "    <tr>\n",
       "      <th>1</th>\n",
       "      <td>2577</td>\n",
       "      <td>6640929</td>\n",
       "      <td>0</td>\n",
       "      <td>0</td>\n",
       "      <td>3</td>\n",
       "    </tr>\n",
       "    <tr>\n",
       "      <th>2</th>\n",
       "      <td>2846</td>\n",
       "      <td>8099716</td>\n",
       "      <td>0</td>\n",
       "      <td>0</td>\n",
       "      <td>3</td>\n",
       "    </tr>\n",
       "    <tr>\n",
       "      <th>3</th>\n",
       "      <td>97956</td>\n",
       "      <td>9595377936</td>\n",
       "      <td>8</td>\n",
       "      <td>227</td>\n",
       "      <td>791</td>\n",
       "    </tr>\n",
       "    <tr>\n",
       "      <th>4</th>\n",
       "      <td>6388</td>\n",
       "      <td>40806544</td>\n",
       "      <td>0</td>\n",
       "      <td>4</td>\n",
       "      <td>23</td>\n",
       "    </tr>\n",
       "  </tbody>\n",
       "</table>\n",
       "</div>"
      ],
      "text/plain": [
       "   population  population_sq  murder  robbery  violent_crime\n",
       "0        1861        3463321       0        0              0\n",
       "1        2577        6640929       0        0              3\n",
       "2        2846        8099716       0        0              3\n",
       "3       97956     9595377936       8      227            791\n",
       "4        6388       40806544       0        4             23"
      ]
     },
     "execution_count": 44,
     "metadata": {},
     "output_type": "execute_result"
    }
   ],
   "source": [
    "X5.head()"
   ]
  },
  {
   "cell_type": "code",
   "execution_count": 45,
   "metadata": {},
   "outputs": [
    {
     "name": "stdout",
     "output_type": "stream",
     "text": [
      "                            OLS Regression Results                            \n",
      "==============================================================================\n",
      "Dep. Variable:         property_crime   R-squared:                       0.946\n",
      "Model:                            OLS   Adj. R-squared:                  0.945\n",
      "Method:                 Least Squares   F-statistic:                     1186.\n",
      "Date:                Wed, 27 Jun 2018   Prob (F-statistic):          3.68e-213\n",
      "Time:                        13:31:07   Log-Likelihood:                -2395.4\n",
      "No. Observations:                 347   AIC:                             4803.\n",
      "Df Residuals:                     341   BIC:                             4826.\n",
      "Df Model:                           5                                         \n",
      "Covariance Type:            nonrobust                                         \n",
      "=================================================================================\n",
      "                    coef    std err          t      P>|t|      [0.025      0.975]\n",
      "---------------------------------------------------------------------------------\n",
      "const           -19.2328     17.912     -1.074      0.284     -54.465      15.999\n",
      "population        0.0179      0.001     15.706      0.000       0.016       0.020\n",
      "population_sq -5.728e-08      1e-08     -5.728      0.000   -7.69e-08   -3.76e-08\n",
      "murder          108.3735     13.561      7.991      0.000      81.700     135.048\n",
      "robbery          -3.9069      1.604     -2.435      0.015      -7.063      -0.751\n",
      "violent_crime     3.5110      0.556      6.311      0.000       2.417       4.605\n",
      "==============================================================================\n",
      "Omnibus:                      175.858   Durbin-Watson:                   2.052\n",
      "Prob(Omnibus):                  0.000   Jarque-Bera (JB):             4374.171\n",
      "Skew:                          -1.548   Prob(JB):                         0.00\n",
      "Kurtosis:                      20.116   Cond. No.                     7.08e+09\n",
      "==============================================================================\n",
      "\n",
      "Warnings:\n",
      "[1] Standard Errors assume that the covariance matrix of the errors is correctly specified.\n",
      "[2] The condition number is large, 7.08e+09. This might indicate that there are\n",
      "strong multicollinearity or other numerical problems.\n"
     ]
    }
   ],
   "source": [
    "X6 = smf.add_constant(X5)\n",
    "est5 = smf.OLS(Y, X6)\n",
    "est6 = est5.fit()\n",
    "print(est6.summary())"
   ]
  },
  {
   "cell_type": "code",
   "execution_count": null,
   "metadata": {},
   "outputs": [],
   "source": []
  }
 ],
 "metadata": {
  "kernelspec": {
   "display_name": "Python 3",
   "language": "python",
   "name": "python3"
  },
  "language_info": {
   "codemirror_mode": {
    "name": "ipython",
    "version": 3
   },
   "file_extension": ".py",
   "mimetype": "text/x-python",
   "name": "python",
   "nbconvert_exporter": "python",
   "pygments_lexer": "ipython3",
   "version": "3.6.4"
  }
 },
 "nbformat": 4,
 "nbformat_minor": 2
}
